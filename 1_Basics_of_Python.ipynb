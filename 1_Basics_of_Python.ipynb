{
  "nbformat": 4,
  "nbformat_minor": 0,
  "metadata": {
    "colab": {
      "provenance": [],
      "collapsed_sections": [
        "FcrdwPXJ9B6O",
        "lWRyDPkLYCF8"
      ],
      "authorship_tag": "ABX9TyOqcV9+3X0uIq58TQ2zdcvR"
    },
    "kernelspec": {
      "name": "python3",
      "display_name": "Python 3"
    },
    "language_info": {
      "name": "python"
    }
  },
  "cells": [
    {
      "cell_type": "markdown",
      "source": [
        "# **Basic of Python**\n",
        "\n",
        "🎯 In this module we will discuss about the followings:\n",
        "\n",
        "\n",
        "*   Variables\n",
        "*   Print Formatting\n",
        "*   DataTypes\n",
        "*   Operators"
      ],
      "metadata": {
        "id": "rtPtYqTU3nXv"
      }
    },
    {
      "cell_type": "markdown",
      "source": [
        "# **Variables in Python**\n",
        "\n",
        "Variables are containers/placeholders for storing data values for future use."
      ],
      "metadata": {
        "id": "FcrdwPXJ9B6O"
      }
    },
    {
      "cell_type": "code",
      "source": [
        "# Declarig and Assigning Variables (Creating Variables)\n",
        "\n",
        "name = 'Garima'\n",
        "age = 25\n",
        "height = 5.2\n",
        "\n",
        "# Printing the Variables\n",
        "print(\"Name:\",name)\n",
        "print(\"Age:\",age)\n",
        "print(\"Height:\",height)"
      ],
      "metadata": {
        "colab": {
          "base_uri": "https://localhost:8080/"
        },
        "id": "EarUQHeH-XbT",
        "outputId": "ca1fb4c6-a784-4336-957b-0099bcfdbdff"
      },
      "execution_count": 6,
      "outputs": [
        {
          "output_type": "stream",
          "name": "stdout",
          "text": [
            "Name: Garima\n",
            "Age: 25\n",
            "Height: 5.2\n"
          ]
        }
      ]
    },
    {
      "cell_type": "code",
      "source": [
        "# We can't call the variable which is not declared or defined\n",
        "\n",
        "print(b)         # it will return error - NameError: name 'b' is not defined"
      ],
      "metadata": {
        "id": "FAgSaxKL-m2s",
        "colab": {
          "base_uri": "https://localhost:8080/",
          "height": 211
        },
        "outputId": "2dae4dde-3aaf-4142-d2cb-254ad0c89869"
      },
      "execution_count": null,
      "outputs": [
        {
          "output_type": "error",
          "ename": "NameError",
          "evalue": "name 'b' is not defined",
          "traceback": [
            "\u001b[0;31m---------------------------------------------------------------------------\u001b[0m",
            "\u001b[0;31mNameError\u001b[0m                                 Traceback (most recent call last)",
            "\u001b[0;32m<ipython-input-2-f8d561106a67>\u001b[0m in \u001b[0;36m<cell line: 3>\u001b[0;34m()\u001b[0m\n\u001b[1;32m      1\u001b[0m \u001b[0;31m# We can't call the variable which is not declared or defined\u001b[0m\u001b[0;34m\u001b[0m\u001b[0;34m\u001b[0m\u001b[0m\n\u001b[1;32m      2\u001b[0m \u001b[0;34m\u001b[0m\u001b[0m\n\u001b[0;32m----> 3\u001b[0;31m \u001b[0mprint\u001b[0m\u001b[0;34m(\u001b[0m\u001b[0mb\u001b[0m\u001b[0;34m)\u001b[0m\u001b[0;34m\u001b[0m\u001b[0;34m\u001b[0m\u001b[0m\n\u001b[0m\u001b[1;32m      4\u001b[0m \u001b[0;34m\u001b[0m\u001b[0m\n\u001b[1;32m      5\u001b[0m \u001b[0;31m# it will return error - NameError: name 'b' is not defined\u001b[0m\u001b[0;34m\u001b[0m\u001b[0;34m\u001b[0m\u001b[0m\n",
            "\u001b[0;31mNameError\u001b[0m: name 'b' is not defined"
          ]
        }
      ]
    },
    {
      "cell_type": "code",
      "source": [
        "# Rules for Naming the Variables:\n",
        "# 1. It should starts with (a-z), (A-Z) or and underscore(_)\n",
        "# 2. It can have letters, numbers and _\n",
        "# 3. But it cannot starts with numbers and we also need to avoid using defined keywords (such as if, else, for)\n",
        "\n",
        "# Valid Variable Names\n",
        "print(\"Valid Variable Names: first_name, AGE, _is_student\")\n",
        "first_name = \"Garima\"\n",
        "AGE = 25\n",
        "_is_student = True\n",
        "\n",
        "# Invalid Variable Names\n",
        "print(\"ERROR for the following Invalid Variable Names: -1number and my-name\")\n",
        "# -1number = 5               # ERROR\n",
        "# my-name = \"Garima\"         # ERROR"
      ],
      "metadata": {
        "colab": {
          "base_uri": "https://localhost:8080/"
        },
        "id": "z-RgDWEbV7dn",
        "outputId": "4aca9de4-6f7c-4c6b-b016-ee4dec5937ed"
      },
      "execution_count": 24,
      "outputs": [
        {
          "output_type": "stream",
          "name": "stdout",
          "text": [
            "Valid Variable Names: first_name, AGE, _is_student\n",
            "ERROR for the following Invalid Variable Names: -1number and my-name\n"
          ]
        }
      ]
    },
    {
      "cell_type": "code",
      "source": [
        "# Variables are 'Case-Sensitive' (i.e. 'g' and 'G' are different)\n",
        "\n",
        "g = 2\n",
        "G = 'Hello'\n",
        "\n",
        "# g will not overwrite G\n",
        "\n",
        "print(g)\n",
        "print(G)\n",
        "\n",
        "print(g==G)       # it will give 'False' which proves that g and G are not same"
      ],
      "metadata": {
        "colab": {
          "base_uri": "https://localhost:8080/"
        },
        "id": "8O4CmdJrYAnP",
        "outputId": "cd7965a2-6f08-44cb-b80d-40edab0770ad"
      },
      "execution_count": 13,
      "outputs": [
        {
          "output_type": "stream",
          "name": "stdout",
          "text": [
            "2\n",
            "Hello\n",
            "False\n"
          ]
        }
      ]
    },
    {
      "cell_type": "code",
      "source": [
        "# Variables don't have their own particular type\n",
        "# 'Dynamic Typing': Variable 'x' can be firstly declared as an integer and then again as a string.\n",
        "\n",
        "x = 5                         # x is of type integer\n",
        "print(\"x:\", x , type(x))\n",
        "\n",
        "x = 'Garima'                  # now x is of type string\n",
        "print(\"x:\", x , type(x))\n",
        "\n",
        "# printing 'x' will always give you its latest declartion as the output."
      ],
      "metadata": {
        "colab": {
          "base_uri": "https://localhost:8080/"
        },
        "id": "ntVxLfwGCaYC",
        "outputId": "fa6cfb7e-3852-4e6a-b2ad-64db4ff48f53"
      },
      "execution_count": 15,
      "outputs": [
        {
          "output_type": "stream",
          "name": "stdout",
          "text": [
            "x: 5 <class 'int'>\n",
            "x: Garima <class 'str'>\n"
          ]
        }
      ]
    },
    {
      "cell_type": "code",
      "source": [
        "# 'Casting': If you want to specify the data type of a variable\n",
        "\n",
        "p = str(5)                  # p will be '5'\n",
        "q = int(5)                  # q will be 5\n",
        "r = float(5)                # r will be 5.0\n",
        "\n",
        "print(p)\n",
        "print(q)\n",
        "print(r)"
      ],
      "metadata": {
        "colab": {
          "base_uri": "https://localhost:8080/"
        },
        "id": "Ogn3Uq53DxQ0",
        "outputId": "16ee3b72-57c1-4c6f-dc38-98ac56da8802"
      },
      "execution_count": null,
      "outputs": [
        {
          "output_type": "stream",
          "name": "stdout",
          "text": [
            "5\n",
            "5\n",
            "5.0\n"
          ]
        }
      ]
    },
    {
      "cell_type": "code",
      "source": [
        "# 'type()' function: We can check the datatype of a variable- using type()\n",
        "\n",
        "print(type(r))                     # r = float(5)\n",
        "print(type(p))                     # p = str(5)\n",
        "print(type(x))                     # x = 'Garima'\n",
        "print(type(a))                     # a = 10"
      ],
      "metadata": {
        "colab": {
          "base_uri": "https://localhost:8080/"
        },
        "id": "5l0Lx4sMEmhc",
        "outputId": "fa520e22-25aa-413a-da75-508c7460ad20"
      },
      "execution_count": 21,
      "outputs": [
        {
          "output_type": "stream",
          "name": "stdout",
          "text": [
            "<class 'float'>\n",
            "<class 'str'>\n",
            "<class 'int'>\n",
            "<class 'int'>\n"
          ]
        }
      ]
    },
    {
      "cell_type": "code",
      "source": [
        "# Ways to declare multiple variables together:\n",
        "\n",
        "# CASE 1: Assigning same values to the multiple variables\n",
        "u = v = w = 100\n",
        "print(u)\n",
        "print(v)\n",
        "print(w)\n",
        "\n",
        "print()\n",
        "\n",
        "# CASE 2: Assigning different values to the multiple variables\n",
        "x, y, z = 1, 2.5, \"Python\"\n",
        "print(x)\n",
        "print(y)\n",
        "print(z)"
      ],
      "metadata": {
        "colab": {
          "base_uri": "https://localhost:8080/"
        },
        "id": "e0eY-NPz_VUc",
        "outputId": "30c6db91-0673-4e5e-c682-b7f5a63e9bda"
      },
      "execution_count": 17,
      "outputs": [
        {
          "output_type": "stream",
          "name": "stdout",
          "text": [
            "100\n",
            "100\n",
            "100\n",
            "\n",
            "1\n",
            "2.5\n",
            "Python\n"
          ]
        }
      ]
    },
    {
      "cell_type": "code",
      "source": [
        "# With \" print() \" function we can output multiple variables together\n",
        "\n",
        "# CASE 1: simply sepearting the variables with comma [BEST METHOD]\n",
        "x = \"Python\"\n",
        "y = \"is\"\n",
        "z = \"awesome\"\n",
        "print(\"Output for CASE 1:\")\n",
        "print(x, y, z)\n",
        "\n",
        "print()\n",
        "\n",
        "# CASE 2: using + sign to output mutiple variables together [concatenation]\n",
        "x = \"Python \"\n",
        "y = \"is \"\n",
        "z = \"awesome\"\n",
        "print(\"Output for CASE 2: \")\n",
        "print(x + y + z)\n",
        "\n",
        "print()\n",
        "\n",
        "\"\"\"\n",
        "Note: In case of (+) sign, remember to add space character after \"python \" and \"is \"\n",
        "otherwise without spaces the output will be \"Pythonisawesome\"\n",
        "In case of commas (,) there is no problem of spaces\n",
        "\"\"\"\n",
        "\n",
        "# CASE 3: for numbers (+) sign works as a operator\n",
        "x = 5\n",
        "y = 10\n",
        "print(\"Output for CASE 3: \")\n",
        "print(x + y)\n",
        "\n",
        "print()\n",
        "\n",
        "# NOTE: (+) sign does not combine variables with different datatypes, whereas there is no problem like this with (,) comma case\n",
        "x = 5\n",
        "y = \"John\"\n",
        "print(\"Note 1 Output: \")\n",
        "print(x, y)                        # CORRECT [BEST METHOD]\n",
        "\n",
        "print()\n",
        "\n",
        "x = 5\n",
        "y = \"John\"\n",
        "# print(x + y)                     # Gives ERROR: (+) can't concatenate different datatypes\n",
        "print(\"Note 2 Output: ERROR \")\n",
        "\n",
        "print()\n",
        "\n",
        "# NOTE: If you want to concatenate variables with 2 different datatypes, then fisrt do 'type casting'\n",
        "x = 5\n",
        "y = \"John\"\n",
        "print(\"Note 3 Output: \")\n",
        "print(str(x) + (y))"
      ],
      "metadata": {
        "colab": {
          "base_uri": "https://localhost:8080/"
        },
        "id": "NC7cMRGDG0c2",
        "outputId": "168e2675-0cf9-4a70-f9f8-3d36cbf17f6e"
      },
      "execution_count": 21,
      "outputs": [
        {
          "output_type": "stream",
          "name": "stdout",
          "text": [
            "Output for CASE 1:\n",
            "Python is awesome\n",
            "\n",
            "Output for CASE 2: \n",
            "Python is awesome\n",
            "\n",
            "Output for CASE 3: \n",
            "15\n",
            "\n",
            "Note 1 Output: \n",
            "5 John\n",
            "\n",
            "Note 2 Output: ERROR \n",
            "\n",
            "Note 3 Output: \n",
            "5John\n"
          ]
        }
      ]
    },
    {
      "cell_type": "markdown",
      "source": [
        "# **Ways of Printing in Python**"
      ],
      "metadata": {
        "id": "lWRyDPkLYCF8"
      }
    },
    {
      "cell_type": "code",
      "source": [
        "# CASE 1: simple printing with print() function\n",
        "\n",
        "print('Hello')              # with single quotes\n",
        "print(\"Hello\")              # with double quotes"
      ],
      "metadata": {
        "colab": {
          "base_uri": "https://localhost:8080/"
        },
        "id": "tMXM_brqYJOP",
        "outputId": "ae715557-aad4-4e7c-aadb-c4893f88d905"
      },
      "execution_count": null,
      "outputs": [
        {
          "output_type": "stream",
          "name": "stdout",
          "text": [
            "Hello\n",
            "Hello\n"
          ]
        }
      ]
    },
    {
      "cell_type": "code",
      "source": [
        "# CASE 2: using format() function\n",
        "\n",
        "name = 'Garima'\n",
        "surname = 'Ahuja'\n",
        "print(\"My first name is {} and last name is {}\".format(name,surname))"
      ],
      "metadata": {
        "colab": {
          "base_uri": "https://localhost:8080/"
        },
        "id": "3fbfymZyYN2F",
        "outputId": "e81909aa-4438-4db7-db47-a958f01f3832"
      },
      "execution_count": null,
      "outputs": [
        {
          "output_type": "stream",
          "name": "stdout",
          "text": [
            "My first name is Garima and last name is Ahuja\n"
          ]
        }
      ]
    },
    {
      "cell_type": "code",
      "source": [
        "# CASE 3: format() with declaration\n",
        "\n",
        "# example 1:\n",
        "name = 'Garima'\n",
        "surname = 'Ahuja'\n",
        "print(\"My first name is {name} and last name is {surname}.\".format(name=name,surname=surname))\n",
        "\n",
        "# example 2:\n",
        "student_1 = 'Garima'\n",
        "student_2 = 'Ruchi'\n",
        "print(\"First student's name is {a} and second student's name is {b}.\".format(a=student_1,b=student_2))"
      ],
      "metadata": {
        "colab": {
          "base_uri": "https://localhost:8080/"
        },
        "id": "ZgO8M2eHYR-R",
        "outputId": "b817bf0e-4516-47f6-b371-42c323f46e9e"
      },
      "execution_count": 4,
      "outputs": [
        {
          "output_type": "stream",
          "name": "stdout",
          "text": [
            "My first name is Garima and last name is Ahuja.\n",
            "First student's name is Garima and second student's name is Ruchi.\n"
          ]
        }
      ]
    },
    {
      "cell_type": "code",
      "source": [
        "# CASE 4: with f'' string\n",
        "\n",
        "name = \"Garima\"\n",
        "print(f'Your name: {name}')"
      ],
      "metadata": {
        "colab": {
          "base_uri": "https://localhost:8080/"
        },
        "id": "vferUfLMZGFT",
        "outputId": "5e73c307-4089-4c9b-8e07-38c354ddf3a3"
      },
      "execution_count": 10,
      "outputs": [
        {
          "output_type": "stream",
          "name": "stdout",
          "text": [
            "Your name: Garima\n"
          ]
        }
      ]
    },
    {
      "cell_type": "markdown",
      "source": [
        "# **Python Data Types**\n",
        "\n",
        "We have various datatypes in python. Some of the major ones are:\n",
        "integer, float, complex, string, boolean, list, tuple, range, dictionary"
      ],
      "metadata": {
        "id": "jNEzvJ6D4Hk0"
      }
    },
    {
      "cell_type": "code",
      "source": [
        "# Setting the DataTypes\n",
        "\n",
        "a = 'Hello Garima'                                          # string (str)\n",
        "b = 15                                                      # integer (int)\n",
        "c = 20.5                                                    # float\n",
        "d = 6+2j                                                    # complex\n",
        "e = [\"Apple\", \"Orange\", \"Cherry\"]                           # list\n",
        "f = (\"Apple\", \"Orange\", \"Cherry\")                           # tuple\n",
        "g = range(5)                                                # range\n",
        "h = {\"name\": \"Garima\", \"Age\": 25}                           # dict\n",
        "i = {\"Apple\", \"Orange\", \"Cherry\"}                           # set\n",
        "j = True                                                    # bool"
      ],
      "metadata": {
        "id": "bDnXcOip3ZFz"
      },
      "execution_count": null,
      "outputs": []
    },
    {
      "cell_type": "code",
      "source": [
        "# 'type()' function: Check the DataType of any Variable\n",
        "\n",
        "print(type(f))\n",
        "print(type(i))\n",
        "print(type(d))\n",
        "print(type(h))\n",
        "\n",
        "# Note: everything in python is a object and objects have class that's why it is written as <class 'tuple'>"
      ],
      "metadata": {
        "colab": {
          "base_uri": "https://localhost:8080/"
        },
        "id": "vYbNanPv5QlR",
        "outputId": "b1f4802c-38b2-4f55-894e-0c295c63c767"
      },
      "execution_count": null,
      "outputs": [
        {
          "output_type": "stream",
          "name": "stdout",
          "text": [
            "<class 'tuple'>\n",
            "<class 'set'>\n",
            "<class 'complex'>\n",
            "<class 'dict'>\n"
          ]
        }
      ]
    },
    {
      "cell_type": "code",
      "source": [
        "# 'len() function - Check the Length of the String\n",
        "\n",
        "a = 'Hello World'               # space is also a character and it is also counted\n",
        "len(a)"
      ],
      "metadata": {
        "colab": {
          "base_uri": "https://localhost:8080/"
        },
        "id": "afxoGZ9aUay1",
        "outputId": "59326e92-9910-4cd0-bb74-f5933fe34388"
      },
      "execution_count": 5,
      "outputs": [
        {
          "output_type": "execute_result",
          "data": {
            "text/plain": [
              "11"
            ]
          },
          "metadata": {},
          "execution_count": 5
        }
      ]
    },
    {
      "cell_type": "code",
      "source": [
        "# Complex DataType\n",
        "\n",
        "# Example 1:\n",
        "x = 3+5j                           # defined complex number\n",
        "print(x)                           # printing complex number\n",
        "print(type(x))                     # checking datatype\n",
        "print(x.real)                      # returning the \"real\" part of the complex number\n",
        "print(x.imag)                      # returning the \"imaginary\" part of the complex number\n",
        "\n",
        "print()\n",
        "\n",
        "# Example 2:\n",
        "y = 7.8+3.2j                       # another example\n",
        "print(y)\n",
        "print(type(y))\n",
        "print(y.real)\n",
        "print(y.imag)"
      ],
      "metadata": {
        "colab": {
          "base_uri": "https://localhost:8080/"
        },
        "id": "nBAUi07dBm0F",
        "outputId": "b9e3b129-c91c-4a1f-b257-8243e6892605"
      },
      "execution_count": 8,
      "outputs": [
        {
          "output_type": "stream",
          "name": "stdout",
          "text": [
            "(3+5j)\n",
            "<class 'complex'>\n",
            "3.0\n",
            "5.0\n",
            "\n",
            "(7.8+3.2j)\n",
            "<class 'complex'>\n",
            "7.8\n",
            "3.2\n"
          ]
        }
      ]
    },
    {
      "cell_type": "code",
      "source": [
        "# Creating Complex Number by using 'complex()' function\n",
        "\n",
        "# generating complex number by defining both real & imag part in function\n",
        "n = complex(4,2)      # here 4 is the real part & 2 is the imaginary part\n",
        "print(\"Complex Number 1: {}\". format (n))\n",
        "\n",
        "print()\n",
        "\n",
        "# generating complex number by defining only one part (i.e. real)\n",
        "m = complex(9)\n",
        "print(\"Complex Number 2: {}\". format (m))\n",
        "# this complex number will have 9 as the real part & imaginary part is not defined so it will take it as by default '0'"
      ],
      "metadata": {
        "colab": {
          "base_uri": "https://localhost:8080/"
        },
        "id": "6tfvHbMuM9pb",
        "outputId": "5802e7ab-444c-49cd-aaea-f74db204a8fa"
      },
      "execution_count": 7,
      "outputs": [
        {
          "output_type": "stream",
          "name": "stdout",
          "text": [
            "Complex Number 1: (4+2j)\n",
            "\n",
            "Complex Number 2: (9+0j)\n"
          ]
        }
      ]
    },
    {
      "cell_type": "code",
      "source": [
        "# DataType Conversion\n",
        "\n",
        "x = 2\n",
        "y = 3.8\n",
        "z = 6+4j\n",
        "w = 'hello'\n",
        "print(type(y))                 # currently the type is float\n",
        "print(type(w))                 # currently the type is string\n",
        "\n",
        "print()\n",
        "\n",
        "# let's change float type to int\n",
        "a = int(y)                     # changing 'float y' into 'int'\n",
        "b = float(x)                   # changing 'int x' into 'float'\n",
        "c = bool(w)                    # changing 'string w' into 'bool'\n",
        "\n",
        "# let's check by printing\n",
        "print(a)\n",
        "print(b)\n",
        "print(c)\n",
        "\n",
        "print()\n",
        "\n",
        "# let's check the type of each variable\n",
        "print(type(a))\n",
        "print(type(b))\n",
        "print(type(c))\n",
        "\n",
        "print()\n",
        "\n",
        "# NOTE: Only complex number can't be converted into int and float type.\n",
        "# And naming strings can't be converted into int, float & complex. Rest all type of conversions are possible."
      ],
      "metadata": {
        "colab": {
          "base_uri": "https://localhost:8080/"
        },
        "id": "z8Tpq39z5QSV",
        "outputId": "40f5c04d-57ca-4ad9-ffde-4e21f9a883b3"
      },
      "execution_count": 9,
      "outputs": [
        {
          "output_type": "stream",
          "name": "stdout",
          "text": [
            "<class 'float'>\n",
            "<class 'str'>\n",
            "\n",
            "3\n",
            "2.0\n",
            "True\n",
            "\n",
            "<class 'int'>\n",
            "<class 'float'>\n",
            "<class 'bool'>\n",
            "\n"
          ]
        }
      ]
    },
    {
      "cell_type": "markdown",
      "source": [
        "# **Operators in Python**\n"
      ],
      "metadata": {
        "id": "La7WESyqSwZW"
      }
    },
    {
      "cell_type": "code",
      "execution_count": null,
      "metadata": {
        "colab": {
          "base_uri": "https://localhost:8080/"
        },
        "id": "fluXQATe3jwF",
        "outputId": "8b7948ee-18af-4d20-b236-ef25d295b990"
      },
      "outputs": [
        {
          "output_type": "stream",
          "name": "stdout",
          "text": [
            "Addition: 2\n",
            "Subtraction: 6\n",
            "Multiplication: 20\n",
            "Division: 5.0\n",
            "Modulus: 1\n",
            "Exponentiation: 36\n",
            "Floor Division: 4\n",
            "\n",
            "Complex Query: 200.5\n"
          ]
        }
      ],
      "source": [
        "# Arithmetic Operators on numbers\n",
        "\n",
        "a = 1+1                 # Adding numbers\n",
        "b = 10-4                # Subtracting numbers\n",
        "c = 4*5                 # Multiplying numbers\n",
        "d = 15/3                # Dividing numbers\n",
        "e = 10%3                # Checking the remainder when 10 is divided by 3 (modulus function)\n",
        "f = 6**2                # Returns the power (6 raised to the power 2) (exponentiation function)\n",
        "g = 21//5               # Floor Division [21/5 = 4.2 = 4 (takes the floor integer always)]\n",
        "\n",
        "print(\"Addition: {}\".format(a))\n",
        "print(\"Subtraction: {}\".format(b))\n",
        "print(\"Multiplication: {}\".format(c))\n",
        "print(\"Division: {}\".format(d))\n",
        "print(\"Modulus: {}\".format(e))\n",
        "print(\"Exponentiation: {}\".format(f))\n",
        "print(\"Floor Division: {}\".format(g))\n",
        "\n",
        "print()                         # blank space\n",
        "\n",
        "x = 10\n",
        "y = 20\n",
        "result = (x*y)+(x/y)            # BODMAS\n",
        "print(\"Complex Query: {}\".format(result))"
      ]
    },
    {
      "cell_type": "code",
      "source": [
        "# Comparison Operators\n",
        "\n",
        "# CASE 1: == Equals to\n",
        "print(\"CASE 1: == Equals to\")\n",
        "a = 10\n",
        "b = 10\n",
        "print(a==b)               # (compares the values of a and b, if equal then return True else gives False)\n",
        "c = 10\n",
        "d = 5\n",
        "print(c==d)\n",
        "\n",
        "print()                   # Blank Space\n",
        "\n",
        "# CASE 2: != Not Equals to\n",
        "print(\"CASE 2: != Not Equals to\")\n",
        "e = 2\n",
        "f = 2\n",
        "print(a!=b)               # (compares the values of e and f, if not equal then return True else gives False)\n",
        "g = 20\n",
        "h = 15\n",
        "print(c!=d)\n",
        "\n",
        "print()                   # Blank Space\n",
        "\n",
        "# CASE 3: greater than (>) & less than (<)\n",
        "print(\"CASE 3: > & <\")\n",
        "num1 = 2\n",
        "num2 = 5\n",
        "print(num1 > num2)\n",
        "print(num1 < num2)\n",
        "\n",
        "print()\n",
        "\n",
        "# CASE 4: greater than equal to (>=) & less than equal to (<=)\n",
        "print(\"CASE 4: >= & <=\")\n",
        "num1 = 10\n",
        "num2 = 6\n",
        "print(num1 >= num2)\n",
        "print(num1 <= num2)"
      ],
      "metadata": {
        "colab": {
          "base_uri": "https://localhost:8080/"
        },
        "id": "h09-JegDVlHy",
        "outputId": "a006041a-1ae0-483c-c1b2-7f1848fd9bd5"
      },
      "execution_count": null,
      "outputs": [
        {
          "output_type": "stream",
          "name": "stdout",
          "text": [
            "CASE 1: == Equals to\n",
            "True\n",
            "False\n",
            "\n",
            "CASE 2: != Not Equals to\n",
            "False\n",
            "True\n",
            "\n",
            "CASE 3: > & <\n",
            "False\n",
            "True\n",
            "\n",
            "CASE 4: >= & <=\n",
            "True\n",
            "False\n"
          ]
        }
      ]
    },
    {
      "cell_type": "code",
      "source": [
        "# Logical Operators\n",
        "\n",
        "# CASE 1: \" AND \"\n",
        "print(\"CASE 1: AND Operator\")\n",
        "A = True\n",
        "B = False\n",
        "C = True\n",
        "D = False\n",
        "print(A and C)      # both true so result = true\n",
        "print(B and D)      # both false so result = false\n",
        "print(A and B)      # one true & one false so result is false\n",
        "print(B and C)      # one false & one true so result is false\n",
        "\n",
        "print()\n",
        "\n",
        "# CASE 2: \" OR \"\n",
        "print(\"CASE 2: OR Operator\")\n",
        "A = True\n",
        "B = False\n",
        "C = True\n",
        "D = False\n",
        "print(A or C)      # both true so result = true\n",
        "print(B or D)      # both false so result = false\n",
        "print(A or B)      # if any one is true then result = true\n",
        "print(B or C)\n",
        "\n",
        "print()\n",
        "\n",
        "# CASE 3: \" NOT \"\n",
        "print(\"CASE 3: NOT Operator\")\n",
        "A = True\n",
        "B = False\n",
        "print(not A)      # not A means opposite of A\n",
        "print(not B)"
      ],
      "metadata": {
        "colab": {
          "base_uri": "https://localhost:8080/"
        },
        "id": "-xb8E2_mkxgC",
        "outputId": "67d086df-5c67-4a20-b0e9-b892570f9417"
      },
      "execution_count": null,
      "outputs": [
        {
          "output_type": "stream",
          "name": "stdout",
          "text": [
            "CASE 1: AND Operator\n",
            "True\n",
            "False\n",
            "False\n",
            "False\n",
            "\n",
            "CASE 2: OR Operator\n",
            "True\n",
            "False\n",
            "True\n",
            "True\n",
            "\n",
            "CASE 3: NOT Operator\n",
            "False\n",
            "True\n"
          ]
        }
      ]
    },
    {
      "cell_type": "markdown",
      "source": [
        "# **Assignment**\n",
        "Topics Covered:\n",
        "\n",
        "*   Syntax and Semantics\n",
        "*   Variables\n",
        "*   Data Types\n",
        "*   Operators (Arithmetic, Comparison and Logical)\n",
        "\n",
        "\n"
      ],
      "metadata": {
        "id": "deXYr1TEVceT"
      }
    },
    {
      "cell_type": "markdown",
      "source": [
        "**1. Syntax and Semantics**"
      ],
      "metadata": {
        "id": "rPsGk0v7Yg8p"
      }
    },
    {
      "cell_type": "markdown",
      "source": [
        "**Question 1:** Write a Python program to print \"Hello, World!\"."
      ],
      "metadata": {
        "id": "dkXYRdUDYr6e"
      }
    },
    {
      "cell_type": "code",
      "source": [
        "print(\"Hello World\")"
      ],
      "metadata": {
        "colab": {
          "base_uri": "https://localhost:8080/"
        },
        "id": "qmeevxkmYlPR",
        "outputId": "16cc217c-8043-44fa-822e-57a4d1b1f9e0"
      },
      "execution_count": 13,
      "outputs": [
        {
          "output_type": "stream",
          "name": "stdout",
          "text": [
            "Hello World\n"
          ]
        }
      ]
    },
    {
      "cell_type": "markdown",
      "source": [
        "**Question 2:** Write a Python program that takes a user input and prints it."
      ],
      "metadata": {
        "id": "pAIhMeAUYwfl"
      }
    },
    {
      "cell_type": "code",
      "source": [
        "name = input(\"Please enter your name: \")\n",
        "print(f'Your Input: {name}')"
      ],
      "metadata": {
        "colab": {
          "base_uri": "https://localhost:8080/"
        },
        "id": "rkeClELPYzFl",
        "outputId": "a6a2b764-c72e-4928-ab6e-a670b4a11347"
      },
      "execution_count": 14,
      "outputs": [
        {
          "output_type": "stream",
          "name": "stdout",
          "text": [
            "Please enter your name: Garima\n",
            "Your Input: Garima\n"
          ]
        }
      ]
    },
    {
      "cell_type": "markdown",
      "source": [
        "**Question 3:** Write a Python program to check if a number is positive, negative, or zero."
      ],
      "metadata": {
        "id": "qFHeg8eEaek-"
      }
    },
    {
      "cell_type": "code",
      "source": [
        "number = float(input(\"Enter a Number to Check: \"))\n",
        "if number > 0:\n",
        "  print(\"Positive Number\")\n",
        "elif number < 0:\n",
        "  print(\"Negative Number\")\n",
        "else:\n",
        "  print(\"The Number is Zero\")"
      ],
      "metadata": {
        "colab": {
          "base_uri": "https://localhost:8080/"
        },
        "id": "Pj0dRLsTaijM",
        "outputId": "e0e12ad7-f392-48dd-a9f3-135281b0d1f9"
      },
      "execution_count": 3,
      "outputs": [
        {
          "output_type": "stream",
          "name": "stdout",
          "text": [
            "Enter a Number to Check: -5.4\n",
            "Negative Number\n"
          ]
        }
      ]
    },
    {
      "cell_type": "markdown",
      "source": [
        "**Question 4:** Write a Python program to find the largest of three numbers."
      ],
      "metadata": {
        "id": "SpVmaUTaiZXv"
      }
    },
    {
      "cell_type": "code",
      "source": [
        "num1 = float(input(\"Enter first number: \"))\n",
        "num2 = float(input(\"Enter second number: \"))\n",
        "num3 = float(input(\"Enter third number: \"))\n",
        "\n",
        "if (num1 >= num2) and (num1 >= num3):\n",
        "  print(\"The largest number is {}\".format(num1))\n",
        "elif (num2 >= num1) and (num2 >= num3):\n",
        "  print(\"The largest number is {}\".format(num2))\n",
        "else:\n",
        "  print(\"The largest number is {}\".format(num3))"
      ],
      "metadata": {
        "colab": {
          "base_uri": "https://localhost:8080/"
        },
        "id": "tfGbWeIGidP_",
        "outputId": "841abd57-94c5-4545-9ae2-1fe7d3bb027e"
      },
      "execution_count": 11,
      "outputs": [
        {
          "output_type": "stream",
          "name": "stdout",
          "text": [
            "Enter first number: 56\n",
            "Enter second number: 6437\n",
            "Enter third number: 45\n",
            "The largest number is 6437.0\n"
          ]
        }
      ]
    },
    {
      "cell_type": "markdown",
      "source": [
        "**Question 5:** Write a Python program to calculate the factorial of a number."
      ],
      "metadata": {
        "id": "mSPCAqfVGQcC"
      }
    },
    {
      "cell_type": "code",
      "source": [
        "num = int(input(\"Enter a number: \"))\n",
        "\n",
        "def factorial(n):\n",
        "  if n == 0:\n",
        "    return 1\n",
        "  else:\n",
        "    return n * factorial(n-1)\n",
        "\n",
        "if num < 0:\n",
        "  print(\"factorial of a negative number is not possible\")\n",
        "else:\n",
        "  print(f'factorial of {num} is {factorial(num)}')"
      ],
      "metadata": {
        "colab": {
          "base_uri": "https://localhost:8080/"
        },
        "id": "kLms6QjEIoU7",
        "outputId": "78a21fbb-86c4-44cd-ec62-8209f0c46ddd"
      },
      "execution_count": 4,
      "outputs": [
        {
          "output_type": "stream",
          "name": "stdout",
          "text": [
            "Enter a non-negative number: 4\n",
            "factorial of 4 is 24\n"
          ]
        }
      ]
    },
    {
      "cell_type": "markdown",
      "source": [
        "**2. Variables and Data Types**"
      ],
      "metadata": {
        "id": "C0KihkP8J8LF"
      }
    },
    {
      "cell_type": "markdown",
      "source": [
        "**Question 6:** Create variables of different data types: integer, float, string, and boolean. Print their values and types."
      ],
      "metadata": {
        "id": "Ov251Z-kKE0y"
      }
    },
    {
      "cell_type": "code",
      "source": [
        "integer_variable = 10\n",
        "float_variable = 5.5\n",
        "string_variable = \"Garima\"\n",
        "boolean_variable = True\n",
        "\n",
        "print(f\"Integer Variable: {integer_variable}, Type: {type(integer_variable)}\")\n",
        "print(f\"Float Variable: {float_variable}, Type: {type(float_variable)}\")\n",
        "print(f\"String Variable: {string_variable}, Type: {type(string_variable)}\")\n",
        "print(f\"Boolean Variable: {boolean_variable}, Type: {type(boolean_variable)}\")"
      ],
      "metadata": {
        "colab": {
          "base_uri": "https://localhost:8080/"
        },
        "id": "cBuHp3QoKH4V",
        "outputId": "faa2392f-3619-4c38-fa45-e77649f8e85b"
      },
      "execution_count": 6,
      "outputs": [
        {
          "output_type": "stream",
          "name": "stdout",
          "text": [
            "Integer Variable: 10, Type: <class 'int'>\n",
            "Float Variable: 5.5, Type: <class 'float'>\n",
            "String Variable: Garima, Type: <class 'str'>\n",
            "Boolean Variable: True, Type: <class 'bool'>\n"
          ]
        }
      ]
    },
    {
      "cell_type": "markdown",
      "source": [
        "**Question 7:** Write a Python program to swap the values of two variables."
      ],
      "metadata": {
        "id": "aJNIjiVOK8ET"
      }
    },
    {
      "cell_type": "code",
      "source": [
        "var1 = input(\"Enter Variable 1: \")\n",
        "var2 = input(\"Enter Variable 2: \")\n",
        "\n",
        "print()\n",
        "\n",
        "# Method 1: Direct Swapping (without using temp variable)\n",
        "print(\"METHOD 1:\")\n",
        "print(f\"Before Swapping: Variable 1 = {var1} and Variable 2 = {var2}\")\n",
        "var1, var2 = var2, var1\n",
        "print(f\"After Swapping: Variable 1 = {var1} and Variable 2 = {var2}\")\n",
        "\n",
        "print() # Now the values have been already swapped and for the next method we are using these swapped values.\n",
        "\n",
        "# Method 2: Using a temperory varibale\n",
        "print(\"METHOD 2:\")\n",
        "print(f\"Before Swapping: Variable 1 = {var1} and Variable 2 = {var2}\")\n",
        "temp = var1\n",
        "var1 = var2\n",
        "var2 = temp\n",
        "print(f\"After Swapping: Variable 1 = {var1} and Variable 2 = {var2}\")"
      ],
      "metadata": {
        "colab": {
          "base_uri": "https://localhost:8080/"
        },
        "id": "VxLNqziFK-vH",
        "outputId": "d4e043d1-20e6-49e0-d7c0-5d8682051f04"
      },
      "execution_count": 5,
      "outputs": [
        {
          "output_type": "stream",
          "name": "stdout",
          "text": [
            "Enter Variable 1: 6578\n",
            "Enter Variable 2: 32\n",
            "\n",
            "METHOD 1:\n",
            "Before Swapping: Variable 1 = 6578 and Variable 2 = 32\n",
            "After Swapping: Variable 1 = 32 and Variable 2 = 6578\n",
            "\n",
            "METHOD 2:\n",
            "Before Swapping: Variable 1 = 32 and Variable 2 = 6578\n",
            "After Swapping: Variable 1 = 6578 and Variable 2 = 32\n"
          ]
        }
      ]
    },
    {
      "cell_type": "markdown",
      "source": [
        "**Question 8:** Write a Python program to convert Celsius to Fahrenheit."
      ],
      "metadata": {
        "id": "zGuCN8UKPn-E"
      }
    },
    {
      "cell_type": "code",
      "source": [
        "celsius = float(input(\"Enter Temperature in Celsius: \"))\n",
        "fahrenheit = (celsius * 9/5) + 32\n",
        "print(f\"{celsius}°C is equal to {fahrenheit}°F\")"
      ],
      "metadata": {
        "colab": {
          "base_uri": "https://localhost:8080/"
        },
        "id": "AwUw3eOMPqzp",
        "outputId": "206cfa3c-f639-4f1f-da38-7c75071968e4"
      },
      "execution_count": 11,
      "outputs": [
        {
          "output_type": "stream",
          "name": "stdout",
          "text": [
            "Enter Temperature in Celsius: 102.5\n",
            "102.5°C is equal to 216.5°F\n"
          ]
        }
      ]
    },
    {
      "cell_type": "markdown",
      "source": [
        "**Question 9:** Write a Python program to concatenate two strings."
      ],
      "metadata": {
        "id": "XTZ1xFItQFRA"
      }
    },
    {
      "cell_type": "code",
      "source": [
        "str1 = input(\"Enter String 1: \")\n",
        "str2 = input(\"Enter String 2: \")\n",
        "concatenation = str1 + \" \" + str2\n",
        "print(f\"Concatenated String: {concatenation}\")"
      ],
      "metadata": {
        "colab": {
          "base_uri": "https://localhost:8080/"
        },
        "id": "a4WTLaxNQH47",
        "outputId": "3bb47bcc-d50c-41e1-e6e2-66436188060b"
      },
      "execution_count": 14,
      "outputs": [
        {
          "output_type": "stream",
          "name": "stdout",
          "text": [
            "Enter String 1: hello\n",
            "Enter String 2: world\n",
            "Concatenated String: hello world\n"
          ]
        }
      ]
    },
    {
      "cell_type": "markdown",
      "source": [
        "**Question 10:** Write a Python program to check if a variable is of a specific data type."
      ],
      "metadata": {
        "id": "qAtceLtNTOCz"
      }
    },
    {
      "cell_type": "code",
      "source": [
        "var = 10.5\n",
        "if isinstance (var, float):\n",
        "  print(f\"variable {var} is float\")\n",
        "else:\n",
        "  print(f\"variable {var} is not float\")"
      ],
      "metadata": {
        "colab": {
          "base_uri": "https://localhost:8080/"
        },
        "id": "yAeTYDyfTpte",
        "outputId": "08c2146e-8537-44a5-e24e-f62bca03fb1e"
      },
      "execution_count": 19,
      "outputs": [
        {
          "output_type": "stream",
          "name": "stdout",
          "text": [
            "variable 10.5 is float\n"
          ]
        }
      ]
    },
    {
      "cell_type": "markdown",
      "source": [
        "**3. Operators (Arithmetic, Comparison and Logical)**"
      ],
      "metadata": {
        "id": "7yd2mj7YUd4L"
      }
    },
    {
      "cell_type": "markdown",
      "source": [
        "**Question 11:** Write a Python program to perform arithmetic operations: addition, subtraction, multiplication, and division."
      ],
      "metadata": {
        "id": "DWvpZdJ8Ud0n"
      }
    },
    {
      "cell_type": "code",
      "source": [
        "a = 5\n",
        "b = 10\n",
        "\n",
        "add = a + b\n",
        "sub = a - b\n",
        "multiply = a * b\n",
        "divide = a / b\n",
        "\n",
        "print(f\"Addition: {a} + {b} = {add}\")\n",
        "print(f\"Subtraction: {a} - {b} = {sub}\")\n",
        "print(f\"Multiplication: {a} * {b} = {multiply}\")\n",
        "print(f\"Division: {a} / {b} = {divide}\")"
      ],
      "metadata": {
        "colab": {
          "base_uri": "https://localhost:8080/"
        },
        "id": "PmEEhgo1U9D1",
        "outputId": "c788d902-6ec0-4977-e0f0-843c48d47af3"
      },
      "execution_count": 25,
      "outputs": [
        {
          "output_type": "stream",
          "name": "stdout",
          "text": [
            "Addition: 5 + 10 = 15\n",
            "Subtraction: 5 - 10 = -5\n",
            "Multiplication: 5 * 10 = 50\n",
            "Division: 5 / 10 = 0.5\n"
          ]
        }
      ]
    },
    {
      "cell_type": "markdown",
      "source": [
        "**Question 12:** Write a Python program to demonstrate comparison operators: equal to, not equal to, greater than, less than."
      ],
      "metadata": {
        "id": "91KhOlKRUdxe"
      }
    },
    {
      "cell_type": "code",
      "source": [
        "x = 10\n",
        "y = 15\n",
        "\n",
        "print(f\"{x} > {y} = {x > y}\")\n",
        "print(f\"{x} < {y} = {x < y}\")\n",
        "print(f\"{x} = {y} = {x == y}\")\n",
        "print(f\"{x} != {y} = {x != y}\")"
      ],
      "metadata": {
        "colab": {
          "base_uri": "https://localhost:8080/"
        },
        "id": "kukAeR2sWX6K",
        "outputId": "fc820d2f-766d-4d2c-c894-f5fff0d80a15"
      },
      "execution_count": 28,
      "outputs": [
        {
          "output_type": "stream",
          "name": "stdout",
          "text": [
            "10 > 15 = False\n",
            "10 < 15 = True\n",
            "10 = 15 = False\n",
            "10 != 15 = True\n"
          ]
        }
      ]
    },
    {
      "cell_type": "markdown",
      "source": [
        "**Question 13:** Write a Python program to demonstrate logical operators: and, or, not."
      ],
      "metadata": {
        "id": "k_oDO00hWdR3"
      }
    },
    {
      "cell_type": "code",
      "source": [
        "p = True\n",
        "q = False\n",
        "r = True\n",
        "\n",
        "print(f\"{p} AND {q} = {p and q}\")\n",
        "print(f\"{p} AND {r} = {p and r}\")\n",
        "print(f\"{p} OR {q} = {p or q}\")\n",
        "print(f\"NOT {p} = {not p}\")\n",
        "print(f\"NOT {q} = {not q}\")"
      ],
      "metadata": {
        "colab": {
          "base_uri": "https://localhost:8080/"
        },
        "id": "P93a-8qZWePu",
        "outputId": "b944f9a6-bece-4d74-b7ec-74740cab99eb"
      },
      "execution_count": 31,
      "outputs": [
        {
          "output_type": "stream",
          "name": "stdout",
          "text": [
            "True AND False = False\n",
            "True AND True = True\n",
            "True OR False = True\n",
            "NOT True = False\n",
            "NOT False = True\n"
          ]
        }
      ]
    },
    {
      "cell_type": "markdown",
      "source": [
        "**Question 14:** Write a Python program to calculate the square of a number."
      ],
      "metadata": {
        "id": "k6e1DXIoWerF"
      }
    },
    {
      "cell_type": "code",
      "source": [
        "n1 = float(input(\"Enter a Number: \"))\n",
        "square = n1 ** 2\n",
        "print(f\"Square of {n1} = {square}\")"
      ],
      "metadata": {
        "colab": {
          "base_uri": "https://localhost:8080/"
        },
        "id": "oMllRrUMWhB7",
        "outputId": "91e4e3c0-f6f0-4f71-9f95-d07ae0eaf15e"
      },
      "execution_count": 34,
      "outputs": [
        {
          "output_type": "stream",
          "name": "stdout",
          "text": [
            "Enter a Number: 4\n",
            "Square of 4.0 = 16.0\n"
          ]
        }
      ]
    },
    {
      "cell_type": "markdown",
      "source": [
        "**Question 15:** Write a Python program to check if a number is even or odd."
      ],
      "metadata": {
        "id": "glkZgN8PWhma"
      }
    },
    {
      "cell_type": "code",
      "source": [
        "n1 = int(input(\"Enter a Number: \"))\n",
        "if n1 % 2 == 0:\n",
        "  print(f\"{n1} is even.\")\n",
        "else:\n",
        "  print(f\"{n1} is odd\")"
      ],
      "metadata": {
        "colab": {
          "base_uri": "https://localhost:8080/"
        },
        "id": "wYIkDKa-Wkf2",
        "outputId": "7c2a48c4-1db6-439b-b2f2-e7aa1769aad4"
      },
      "execution_count": 36,
      "outputs": [
        {
          "output_type": "stream",
          "name": "stdout",
          "text": [
            "Enter a Number: 5\n",
            "5 is odd\n"
          ]
        }
      ]
    },
    {
      "cell_type": "markdown",
      "source": [
        "**Question 16:** Write a Python program to find the sum of the first n natural numbers."
      ],
      "metadata": {
        "id": "eCChhS1PafGj"
      }
    },
    {
      "cell_type": "code",
      "source": [
        "n1 = int(input(\"Enter a Number: \"))\n",
        "sum = (n1 * (n1 + 1)) / 2\n",
        "print(f\"Sum of first {n1} natural numbers = {sum}\")"
      ],
      "metadata": {
        "colab": {
          "base_uri": "https://localhost:8080/"
        },
        "id": "tYKCDHK3ahVY",
        "outputId": "0ca33b59-10ce-4e28-d129-26049708201b"
      },
      "execution_count": 42,
      "outputs": [
        {
          "output_type": "stream",
          "name": "stdout",
          "text": [
            "Enter a Number: 9\n",
            "Sum of first 9 natural numbers = 45.0\n"
          ]
        }
      ]
    },
    {
      "cell_type": "markdown",
      "source": [
        "**Question 17:** Write a Python program to check if a year is a leap year."
      ],
      "metadata": {
        "id": "nf9BKDDTfUyp"
      }
    },
    {
      "cell_type": "code",
      "source": [
        "year = int(input(\"Enter a year: \"))\n",
        "if (year % 4 == 0 and year % 100 != 0) or (year % 400 == 0):\n",
        "    print(f\"{year} is a leap year.\")\n",
        "else:\n",
        "    print(f\"{year} is not a leap year.\")"
      ],
      "metadata": {
        "colab": {
          "base_uri": "https://localhost:8080/"
        },
        "id": "HYNnXIEsfxun",
        "outputId": "2f9c9f1a-8094-4614-9829-39f3d4fc8b08"
      },
      "execution_count": 46,
      "outputs": [
        {
          "output_type": "stream",
          "name": "stdout",
          "text": [
            "Enter a year: 2000\n",
            "2000 is a leap year.\n"
          ]
        }
      ]
    },
    {
      "cell_type": "markdown",
      "source": [
        "**Question 18:** Write a Python program to reverse a string."
      ],
      "metadata": {
        "id": "yoZqEXlcfY1S"
      }
    },
    {
      "cell_type": "code",
      "source": [
        "str1 = input(\"Enter a string: \")\n",
        "reversed_str1 = str1[::-1]\n",
        "print(f\"The reversed string is: {reversed_str1}\")"
      ],
      "metadata": {
        "colab": {
          "base_uri": "https://localhost:8080/"
        },
        "id": "Myye9Fw4fiUT",
        "outputId": "bfbf9ff2-7fa4-46e1-f5ac-878d4b49939a"
      },
      "execution_count": 2,
      "outputs": [
        {
          "output_type": "stream",
          "name": "stdout",
          "text": [
            "Enter a string: ga15\n",
            "The reversed string is: 51ag\n"
          ]
        }
      ]
    },
    {
      "cell_type": "markdown",
      "source": [
        "**Question 19:** Write a Python program to check if a string is a palindrome."
      ],
      "metadata": {
        "id": "ZGKprgnTfizf"
      }
    },
    {
      "cell_type": "code",
      "source": [
        "str1 = input(\"Enter a string: \")\n",
        "if str1 == str1[::-1]:\n",
        "    print(f\"{str1} is a palindrome.\")\n",
        "else:\n",
        "    print(f\"{str1} is not a palindrome.\")"
      ],
      "metadata": {
        "colab": {
          "base_uri": "https://localhost:8080/"
        },
        "id": "zPmndxOEfjlt",
        "outputId": "a0f32a99-70fe-40b7-b9ba-035d3c560290"
      },
      "execution_count": 3,
      "outputs": [
        {
          "output_type": "stream",
          "name": "stdout",
          "text": [
            "Enter a string: gaag\n",
            "gaag is a palindrome.\n"
          ]
        }
      ]
    },
    {
      "cell_type": "markdown",
      "source": [
        "**Question 20:** Write a Python program to sort a list of numbers in ascending order."
      ],
      "metadata": {
        "id": "93COHsEwfkG-"
      }
    },
    {
      "cell_type": "code",
      "source": [
        "numbers = [int(x) for x in input(\"Enter numbers separated by space: \").split()]\n",
        "numbers.sort()\n",
        "print(f\"Sorted list: {numbers}\")"
      ],
      "metadata": {
        "colab": {
          "base_uri": "https://localhost:8080/"
        },
        "id": "GUdqUSQ3fmQ3",
        "outputId": "0a34d215-396b-41dc-fbca-7e374f6bc668"
      },
      "execution_count": 52,
      "outputs": [
        {
          "output_type": "stream",
          "name": "stdout",
          "text": [
            "Enter numbers separated by space: 12 67\n",
            "Sorted list: [12, 67]\n"
          ]
        }
      ]
    },
    {
      "cell_type": "markdown",
      "source": [
        "**Write a Python program to make a simple calculator**"
      ],
      "metadata": {
        "id": "ZHMGfQMAS_N_"
      }
    },
    {
      "cell_type": "code",
      "source": [
        "num1 = float(input(\"Enter First Number: \"))\n",
        "num2 = float(input(\"Enter Second Number: \"))\n",
        "\n",
        "# Performing Arithmetic Operations:\n",
        "add = num1 + num2\n",
        "sub = num1 - num2\n",
        "multiply = num1 * num2\n",
        "divide = num1 / num2\n",
        "floor_division = num1 // num2\n",
        "modulus = num1 % num2\n",
        "exponentiation = num1 ** num2\n",
        "\n",
        "# Displaying Results:\n",
        "print(f\"Addition: {num1} + {num2} = {add}\")\n",
        "print(f\"Subtraction: {num1} - {num2} = {sub}\")\n",
        "print(f\"Multiplication: {num1} * {num2} = {multiply}\")\n",
        "print(f\"Division: {num1} / {num2} = {divide}\")\n",
        "print(f\"Floor Division: {num1} // {num2} = {floor_division}\")\n",
        "print(f\"Modulus: {num1} % {num2} = {modulus}\")\n",
        "print(f\"Exponentiation: {num1} ** {num2} = {exponentiation}\")"
      ],
      "metadata": {
        "colab": {
          "base_uri": "https://localhost:8080/"
        },
        "id": "0yN9IuvCTaIX",
        "outputId": "ded84633-ba07-4531-995d-579414faf52d"
      },
      "execution_count": 2,
      "outputs": [
        {
          "output_type": "stream",
          "name": "stdout",
          "text": [
            "Enter First Number: 5\n",
            "Enter Second Number: 2\n",
            "Addition: 5.0 + 2.0 = 7.0\n",
            "Subtraction: 5.0 - 2.0 = 3.0\n",
            "Multiplication: 5.0 * 2.0 = 10.0\n",
            "Division: 5.0 / 2.0 = 2.5\n",
            "Floor Division: 5.0 // 2.0 = 2.0\n",
            "Modulus: 5.0 % 2.0 = 1.0\n",
            "Exponentiation: 5.0 ** 2.0 = 25.0\n"
          ]
        }
      ]
    },
    {
      "cell_type": "markdown",
      "source": [
        "---\n",
        "**Basics of Python - Done ✅**\n",
        "---"
      ],
      "metadata": {
        "id": "9QQNuMDWlSwm"
      }
    }
  ]
}