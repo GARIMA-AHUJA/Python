{
  "nbformat": 4,
  "nbformat_minor": 0,
  "metadata": {
    "colab": {
      "provenance": [],
      "authorship_tag": "ABX9TyNV1Rhznh74wt29NXJskwHo"
    },
    "kernelspec": {
      "name": "python3",
      "display_name": "Python 3"
    },
    "language_info": {
      "name": "python"
    }
  },
  "cells": [
    {
      "cell_type": "markdown",
      "source": [
        "# **Basic of Python**\n",
        "\n",
        "🎯 In this module we will discuss about the followings:\n",
        "\n",
        "\n",
        "*   Variables\n",
        "*   Print Formatting\n",
        "*   DataTypes\n",
        "*   Operators"
      ],
      "metadata": {
        "id": "rtPtYqTU3nXv"
      }
    },
    {
      "cell_type": "markdown",
      "source": [
        "# **Variables in Python**\n",
        "\n",
        "Variables are containers/placeholders for storing data values for future use."
      ],
      "metadata": {
        "id": "FcrdwPXJ9B6O"
      }
    },
    {
      "cell_type": "code",
      "source": [
        "# Declarig and Assigning Variables (Creating Variables)\n",
        "\n",
        "name = 'Garima'\n",
        "age = 25\n",
        "height = 5.2\n",
        "\n",
        "# Printing the Variables\n",
        "print(\"Name:\",name)\n",
        "print(\"Age:\",age)\n",
        "print(\"Height:\",height)"
      ],
      "metadata": {
        "colab": {
          "base_uri": "https://localhost:8080/"
        },
        "id": "EarUQHeH-XbT",
        "outputId": "bbedeb7e-3010-4318-d46d-dc02b50a897a"
      },
      "execution_count": 1,
      "outputs": [
        {
          "output_type": "stream",
          "name": "stdout",
          "text": [
            "Name: Garima\n",
            "Age: 25\n",
            "Height: 5.2\n"
          ]
        }
      ]
    },
    {
      "cell_type": "code",
      "source": [
        "# We can't call the variable which is not declared or defined\n",
        "\n",
        "print(b)         # it will return error - NameError: name 'b' is not defined"
      ],
      "metadata": {
        "id": "FAgSaxKL-m2s",
        "colab": {
          "base_uri": "https://localhost:8080/",
          "height": 176
        },
        "outputId": "1e1aae07-4a1c-4a45-c047-95c45bc556ca"
      },
      "execution_count": 2,
      "outputs": [
        {
          "output_type": "error",
          "ename": "NameError",
          "evalue": "name 'b' is not defined",
          "traceback": [
            "\u001b[0;31m---------------------------------------------------------------------------\u001b[0m",
            "\u001b[0;31mNameError\u001b[0m                                 Traceback (most recent call last)",
            "\u001b[0;32m<ipython-input-2-5a5687a1ce38>\u001b[0m in \u001b[0;36m<cell line: 3>\u001b[0;34m()\u001b[0m\n\u001b[1;32m      1\u001b[0m \u001b[0;31m# We can't call the variable which is not declared or defined\u001b[0m\u001b[0;34m\u001b[0m\u001b[0;34m\u001b[0m\u001b[0m\n\u001b[1;32m      2\u001b[0m \u001b[0;34m\u001b[0m\u001b[0m\n\u001b[0;32m----> 3\u001b[0;31m \u001b[0mprint\u001b[0m\u001b[0;34m(\u001b[0m\u001b[0mb\u001b[0m\u001b[0;34m)\u001b[0m         \u001b[0;31m# it will return error - NameError: name 'b' is not defined\u001b[0m\u001b[0;34m\u001b[0m\u001b[0;34m\u001b[0m\u001b[0m\n\u001b[0m",
            "\u001b[0;31mNameError\u001b[0m: name 'b' is not defined"
          ]
        }
      ]
    },
    {
      "cell_type": "code",
      "source": [
        "# Rules for Naming the Variables:\n",
        "# 1. It should starts with (a-z), (A-Z) or and underscore(_)\n",
        "# 2. It can have letters, numbers and _\n",
        "# 3. But it cannot starts with numbers and we also need to avoid using defined keywords (such as if, else, for)\n",
        "\n",
        "# Valid Variable Names\n",
        "print(\"Valid Variable Names: first_name, AGE, _is_student\")\n",
        "first_name = \"Garima\"\n",
        "AGE = 25\n",
        "_is_student = True\n",
        "\n",
        "# Invalid Variable Names\n",
        "print(\"ERROR for the following Invalid Variable Names: -1number and my-name\")\n",
        "# -1number = 5               # ERROR\n",
        "# my-name = \"Garima\"         # ERROR"
      ],
      "metadata": {
        "colab": {
          "base_uri": "https://localhost:8080/"
        },
        "id": "z-RgDWEbV7dn",
        "outputId": "87c5ef91-081a-4a7b-d108-47f9f194db3c"
      },
      "execution_count": 3,
      "outputs": [
        {
          "output_type": "stream",
          "name": "stdout",
          "text": [
            "Valid Variable Names: first_name, AGE, _is_student\n",
            "ERROR for the following Invalid Variable Names: -1number and my-name\n"
          ]
        }
      ]
    },
    {
      "cell_type": "code",
      "source": [
        "# Variables are 'Case-Sensitive' (i.e. 'g' and 'G' are different)\n",
        "\n",
        "g = 2\n",
        "G = 'Hello'\n",
        "\n",
        "# g will not overwrite G\n",
        "\n",
        "print(g)\n",
        "print(G)\n",
        "\n",
        "print(g==G)       # it will give 'False' which proves that g and G are not same"
      ],
      "metadata": {
        "colab": {
          "base_uri": "https://localhost:8080/"
        },
        "id": "8O4CmdJrYAnP",
        "outputId": "7e01ef32-786d-4c68-aece-8ead48d38717"
      },
      "execution_count": 4,
      "outputs": [
        {
          "output_type": "stream",
          "name": "stdout",
          "text": [
            "2\n",
            "Hello\n",
            "False\n"
          ]
        }
      ]
    },
    {
      "cell_type": "code",
      "source": [
        "# Variables don't have their own particular type\n",
        "# 'Dynamic Typing': Variable 'x' can be firstly declared as an integer and then again as a string.\n",
        "\n",
        "x = 5                         # x is of type integer\n",
        "print(\"x:\", x , type(x))\n",
        "\n",
        "x = 'Garima'                  # now x is of type string\n",
        "print(\"x:\", x , type(x))\n",
        "\n",
        "# printing 'x' will always give you its latest declartion as the output."
      ],
      "metadata": {
        "colab": {
          "base_uri": "https://localhost:8080/"
        },
        "id": "ntVxLfwGCaYC",
        "outputId": "f535845b-2666-47ce-8a67-0c5e35c241f7"
      },
      "execution_count": 5,
      "outputs": [
        {
          "output_type": "stream",
          "name": "stdout",
          "text": [
            "x: 5 <class 'int'>\n",
            "x: Garima <class 'str'>\n"
          ]
        }
      ]
    },
    {
      "cell_type": "code",
      "source": [
        "# 'Casting': If you want to specify the data type of a variable\n",
        "\n",
        "p = str(5)                  # p will be '5'\n",
        "q = int(5)                  # q will be 5\n",
        "r = float(5)                # r will be 5.0\n",
        "\n",
        "print(p)\n",
        "print(q)\n",
        "print(r)"
      ],
      "metadata": {
        "colab": {
          "base_uri": "https://localhost:8080/"
        },
        "id": "Ogn3Uq53DxQ0",
        "outputId": "828e7d28-4825-45eb-f89e-2b5ac1ea36ac"
      },
      "execution_count": 6,
      "outputs": [
        {
          "output_type": "stream",
          "name": "stdout",
          "text": [
            "5\n",
            "5\n",
            "5.0\n"
          ]
        }
      ]
    },
    {
      "cell_type": "code",
      "source": [
        "# 'type()' function: We can check the datatype of a variable- using type()\n",
        "\n",
        "print(type(r))                     # r = float(5)\n",
        "print(type(p))                     # p = str(5)\n",
        "print(type(x))                     # x = 'Garima'\n",
        "print(type(g))                     # g = 2"
      ],
      "metadata": {
        "colab": {
          "base_uri": "https://localhost:8080/"
        },
        "id": "5l0Lx4sMEmhc",
        "outputId": "81ccd292-fc2b-4ffd-fb71-2a3a070fd630"
      },
      "execution_count": 7,
      "outputs": [
        {
          "output_type": "stream",
          "name": "stdout",
          "text": [
            "<class 'float'>\n",
            "<class 'str'>\n",
            "<class 'str'>\n",
            "<class 'int'>\n"
          ]
        }
      ]
    },
    {
      "cell_type": "code",
      "source": [
        "# Ways to declare multiple variables together:\n",
        "\n",
        "# CASE 1: Assigning same values to the multiple variables\n",
        "u = v = w = 100\n",
        "print(u)\n",
        "print(v)\n",
        "print(w)\n",
        "\n",
        "print()\n",
        "\n",
        "# CASE 2: Assigning different values to the multiple variables\n",
        "x, y, z = 1, 2.5, \"Python\"\n",
        "print(x)\n",
        "print(y)\n",
        "print(z)"
      ],
      "metadata": {
        "colab": {
          "base_uri": "https://localhost:8080/"
        },
        "id": "e0eY-NPz_VUc",
        "outputId": "2f161864-1a3a-43a6-a601-8c75c3933b02"
      },
      "execution_count": 8,
      "outputs": [
        {
          "output_type": "stream",
          "name": "stdout",
          "text": [
            "100\n",
            "100\n",
            "100\n",
            "\n",
            "1\n",
            "2.5\n",
            "Python\n"
          ]
        }
      ]
    },
    {
      "cell_type": "code",
      "source": [
        "# With \" print() \" function we can output multiple variables together\n",
        "\n",
        "# CASE 1: simply sepearting the variables with comma [BEST METHOD]\n",
        "x = \"Python\"\n",
        "y = \"is\"\n",
        "z = \"awesome\"\n",
        "print(\"Output for CASE 1:\")\n",
        "print(x, y, z)\n",
        "\n",
        "print()\n",
        "\n",
        "# CASE 2: using + sign to output mutiple variables together [concatenation]\n",
        "x = \"Python \"\n",
        "y = \"is \"\n",
        "z = \"awesome\"\n",
        "print(\"Output for CASE 2: \")\n",
        "print(x + y + z)\n",
        "\n",
        "print()\n",
        "\n",
        "\"\"\"\n",
        "Note: In case of (+) sign, remember to add space character after \"python \" and \"is \"\n",
        "otherwise without spaces the output will be \"Pythonisawesome\"\n",
        "In case of commas (,) there is no problem of spaces\n",
        "\"\"\"\n",
        "\n",
        "# CASE 3: for numbers (+) sign works as a operator\n",
        "x = 5\n",
        "y = 10\n",
        "print(\"Output for CASE 3: \")\n",
        "print(x + y)\n",
        "\n",
        "print()\n",
        "\n",
        "# NOTE: (+) sign does not combine variables with different datatypes, whereas there is no problem like this with (,) comma case\n",
        "x = 5\n",
        "y = \"John\"\n",
        "print(\"Note 1 Output: \")\n",
        "print(x, y)                        # CORRECT [BEST METHOD]\n",
        "\n",
        "print()\n",
        "\n",
        "x = 5\n",
        "y = \"John\"\n",
        "# print(x + y)                     # Gives ERROR: (+) can't concatenate different datatypes\n",
        "print(\"Note 2 Output: ERROR \")\n",
        "\n",
        "print()\n",
        "\n",
        "# NOTE: If you want to concatenate variables with 2 different datatypes, then fisrt do 'type casting'\n",
        "x = 5\n",
        "y = \"John\"\n",
        "print(\"Note 3 Output: \")\n",
        "print(str(x) + (y))"
      ],
      "metadata": {
        "colab": {
          "base_uri": "https://localhost:8080/"
        },
        "id": "NC7cMRGDG0c2",
        "outputId": "c64fab77-ae2e-420e-eb7e-d958e9644156"
      },
      "execution_count": 9,
      "outputs": [
        {
          "output_type": "stream",
          "name": "stdout",
          "text": [
            "Output for CASE 1:\n",
            "Python is awesome\n",
            "\n",
            "Output for CASE 2: \n",
            "Python is awesome\n",
            "\n",
            "Output for CASE 3: \n",
            "15\n",
            "\n",
            "Note 1 Output: \n",
            "5 John\n",
            "\n",
            "Note 2 Output: ERROR \n",
            "\n",
            "Note 3 Output: \n",
            "5John\n"
          ]
        }
      ]
    },
    {
      "cell_type": "markdown",
      "source": [
        "# **Ways of Printing in Python**"
      ],
      "metadata": {
        "id": "lWRyDPkLYCF8"
      }
    },
    {
      "cell_type": "code",
      "source": [
        "# CASE 1: simple printing with print() function\n",
        "\n",
        "print('Hello')              # with single quotes\n",
        "print(\"Hello\")              # with double quotes"
      ],
      "metadata": {
        "colab": {
          "base_uri": "https://localhost:8080/"
        },
        "id": "tMXM_brqYJOP",
        "outputId": "3d86c6a6-b789-4725-87ad-f7dd41a781a1"
      },
      "execution_count": 10,
      "outputs": [
        {
          "output_type": "stream",
          "name": "stdout",
          "text": [
            "Hello\n",
            "Hello\n"
          ]
        }
      ]
    },
    {
      "cell_type": "code",
      "source": [
        "# CASE 2: using format() function\n",
        "\n",
        "name = 'Garima'\n",
        "surname = 'Ahuja'\n",
        "print(\"My first name is {} and last name is {}\".format(name,surname))"
      ],
      "metadata": {
        "colab": {
          "base_uri": "https://localhost:8080/"
        },
        "id": "3fbfymZyYN2F",
        "outputId": "0aea981f-e2c3-4954-c2f7-e61bdf5a2c1d"
      },
      "execution_count": 11,
      "outputs": [
        {
          "output_type": "stream",
          "name": "stdout",
          "text": [
            "My first name is Garima and last name is Ahuja\n"
          ]
        }
      ]
    },
    {
      "cell_type": "code",
      "source": [
        "# CASE 3: format() with declaration\n",
        "\n",
        "# example 1:\n",
        "name = 'Garima'\n",
        "surname = 'Ahuja'\n",
        "print(\"My first name is {name} and last name is {surname}.\".format(name=name,surname=surname))\n",
        "\n",
        "# example 2:\n",
        "student_1 = 'Garima'\n",
        "student_2 = 'Ruchi'\n",
        "print(\"First student's name is {a} and second student's name is {b}.\".format(a=student_1,b=student_2))"
      ],
      "metadata": {
        "colab": {
          "base_uri": "https://localhost:8080/"
        },
        "id": "ZgO8M2eHYR-R",
        "outputId": "861c4f4c-f3a1-4de6-8f1b-d9651e7e6b36"
      },
      "execution_count": 12,
      "outputs": [
        {
          "output_type": "stream",
          "name": "stdout",
          "text": [
            "My first name is Garima and last name is Ahuja.\n",
            "First student's name is Garima and second student's name is Ruchi.\n"
          ]
        }
      ]
    },
    {
      "cell_type": "code",
      "source": [
        "# CASE 4: with f'' string\n",
        "\n",
        "name = \"Garima\"\n",
        "print(f'Your name: {name}')"
      ],
      "metadata": {
        "colab": {
          "base_uri": "https://localhost:8080/"
        },
        "id": "vferUfLMZGFT",
        "outputId": "aa3cb0d8-cc5a-4694-d8fb-2f0e63754b87"
      },
      "execution_count": 13,
      "outputs": [
        {
          "output_type": "stream",
          "name": "stdout",
          "text": [
            "Your name: Garima\n"
          ]
        }
      ]
    },
    {
      "cell_type": "markdown",
      "source": [
        "# **Python Data Types**\n",
        "\n",
        "We have various datatypes in python. Some of the major ones are:\n",
        "integer, float, complex, string, boolean, list, tuple, range, dictionary"
      ],
      "metadata": {
        "id": "jNEzvJ6D4Hk0"
      }
    },
    {
      "cell_type": "code",
      "source": [
        "# Setting the DataTypes\n",
        "\n",
        "a = 'Hello Garima'                                          # string (str)\n",
        "b = 15                                                      # integer (int)\n",
        "c = 20.5                                                    # float\n",
        "d = 6+2j                                                    # complex\n",
        "e = [\"Apple\", \"Orange\", \"Cherry\"]                           # list\n",
        "f = (\"Apple\", \"Orange\", \"Cherry\")                           # tuple\n",
        "g = range(5)                                                # range\n",
        "h = {\"name\": \"Garima\", \"Age\": 25}                           # dict\n",
        "i = {\"Apple\", \"Orange\", \"Cherry\"}                           # set\n",
        "j = True                                                    # bool"
      ],
      "metadata": {
        "id": "bDnXcOip3ZFz"
      },
      "execution_count": 14,
      "outputs": []
    },
    {
      "cell_type": "code",
      "source": [
        "# 'type()' function: Check the DataType of any Variable\n",
        "\n",
        "print(type(f))\n",
        "print(type(i))\n",
        "print(type(d))\n",
        "print(type(h))\n",
        "\n",
        "# Note: everything in python is a object and objects have class that's why it is written as <class 'tuple'>"
      ],
      "metadata": {
        "colab": {
          "base_uri": "https://localhost:8080/"
        },
        "id": "vYbNanPv5QlR",
        "outputId": "b9d9861a-b388-4334-81b4-895e259b7510"
      },
      "execution_count": 15,
      "outputs": [
        {
          "output_type": "stream",
          "name": "stdout",
          "text": [
            "<class 'tuple'>\n",
            "<class 'set'>\n",
            "<class 'complex'>\n",
            "<class 'dict'>\n"
          ]
        }
      ]
    },
    {
      "cell_type": "code",
      "source": [
        "# 'len() function - Check the Length of the String\n",
        "\n",
        "a = 'Hello World'               # space is also a character and it is also counted\n",
        "len(a)"
      ],
      "metadata": {
        "colab": {
          "base_uri": "https://localhost:8080/"
        },
        "id": "afxoGZ9aUay1",
        "outputId": "0d17415a-40d3-4f82-c435-9a52e7d74439"
      },
      "execution_count": 16,
      "outputs": [
        {
          "output_type": "execute_result",
          "data": {
            "text/plain": [
              "11"
            ]
          },
          "metadata": {},
          "execution_count": 16
        }
      ]
    },
    {
      "cell_type": "code",
      "source": [
        "# Complex DataType\n",
        "\n",
        "# Example 1:\n",
        "x = 3+5j                           # defined complex number\n",
        "print(x)                           # printing complex number\n",
        "print(type(x))                     # checking datatype\n",
        "print(x.real)                      # returning the \"real\" part of the complex number\n",
        "print(x.imag)                      # returning the \"imaginary\" part of the complex number\n",
        "\n",
        "print()\n",
        "\n",
        "# Example 2:\n",
        "y = 7.8+3.2j                       # another example\n",
        "print(y)\n",
        "print(type(y))\n",
        "print(y.real)\n",
        "print(y.imag)"
      ],
      "metadata": {
        "colab": {
          "base_uri": "https://localhost:8080/"
        },
        "id": "nBAUi07dBm0F",
        "outputId": "46a24570-578f-47ce-d063-8c7cff3da10d"
      },
      "execution_count": 17,
      "outputs": [
        {
          "output_type": "stream",
          "name": "stdout",
          "text": [
            "(3+5j)\n",
            "<class 'complex'>\n",
            "3.0\n",
            "5.0\n",
            "\n",
            "(7.8+3.2j)\n",
            "<class 'complex'>\n",
            "7.8\n",
            "3.2\n"
          ]
        }
      ]
    },
    {
      "cell_type": "code",
      "source": [
        "# Creating Complex Number by using 'complex()' function\n",
        "\n",
        "# generating complex number by defining both real & imag part in function\n",
        "n = complex(4,2)      # here 4 is the real part & 2 is the imaginary part\n",
        "print(\"Complex Number 1: {}\". format (n))\n",
        "\n",
        "print()\n",
        "\n",
        "# generating complex number by defining only one part (i.e. real)\n",
        "m = complex(9)\n",
        "print(\"Complex Number 2: {}\". format (m))\n",
        "# this complex number will have 9 as the real part & imaginary part is not defined so it will take it as by default '0'"
      ],
      "metadata": {
        "colab": {
          "base_uri": "https://localhost:8080/"
        },
        "id": "6tfvHbMuM9pb",
        "outputId": "2209ec56-fa6c-42c8-ddac-289885713cd0"
      },
      "execution_count": 18,
      "outputs": [
        {
          "output_type": "stream",
          "name": "stdout",
          "text": [
            "Complex Number 1: (4+2j)\n",
            "\n",
            "Complex Number 2: (9+0j)\n"
          ]
        }
      ]
    },
    {
      "cell_type": "code",
      "source": [
        "# DataType Conversion\n",
        "\n",
        "x = 2\n",
        "y = 3.8\n",
        "z = 6+4j\n",
        "w = 'hello'\n",
        "print(type(y))                 # currently the type is float\n",
        "print(type(w))                 # currently the type is string\n",
        "\n",
        "print()\n",
        "\n",
        "# let's change float type to int\n",
        "a = int(y)                     # changing 'float y' into 'int'\n",
        "b = float(x)                   # changing 'int x' into 'float'\n",
        "c = bool(w)                    # changing 'string w' into 'bool'\n",
        "\n",
        "# let's check by printing\n",
        "print(a)\n",
        "print(b)\n",
        "print(c)\n",
        "\n",
        "print()\n",
        "\n",
        "# let's check the type of each variable\n",
        "print(type(a))\n",
        "print(type(b))\n",
        "print(type(c))\n",
        "\n",
        "print()\n",
        "\n",
        "# NOTE: Only complex number can't be converted into int and float type.\n",
        "# And naming strings can't be converted into int, float & complex. Rest all type of conversions are possible."
      ],
      "metadata": {
        "colab": {
          "base_uri": "https://localhost:8080/"
        },
        "id": "z8Tpq39z5QSV",
        "outputId": "708a837e-3437-4ca6-b8ae-9fc7b0a249af"
      },
      "execution_count": 19,
      "outputs": [
        {
          "output_type": "stream",
          "name": "stdout",
          "text": [
            "<class 'float'>\n",
            "<class 'str'>\n",
            "\n",
            "3\n",
            "2.0\n",
            "True\n",
            "\n",
            "<class 'int'>\n",
            "<class 'float'>\n",
            "<class 'bool'>\n",
            "\n"
          ]
        }
      ]
    },
    {
      "cell_type": "markdown",
      "source": [
        "# **Operators in Python**\n"
      ],
      "metadata": {
        "id": "La7WESyqSwZW"
      }
    },
    {
      "cell_type": "code",
      "execution_count": 20,
      "metadata": {
        "colab": {
          "base_uri": "https://localhost:8080/"
        },
        "id": "fluXQATe3jwF",
        "outputId": "09d7996c-3721-411f-b823-ff1823c5eaa2"
      },
      "outputs": [
        {
          "output_type": "stream",
          "name": "stdout",
          "text": [
            "Addition: 2\n",
            "Subtraction: 6\n",
            "Multiplication: 20\n",
            "Division: 5.0\n",
            "Modulus: 1\n",
            "Exponentiation: 36\n",
            "Floor Division: 4\n",
            "\n",
            "Complex Query: 200.5\n"
          ]
        }
      ],
      "source": [
        "# Arithmetic Operators on numbers\n",
        "\n",
        "a = 1+1                 # Adding numbers\n",
        "b = 10-4                # Subtracting numbers\n",
        "c = 4*5                 # Multiplying numbers\n",
        "d = 15/3                # Dividing numbers\n",
        "e = 10%3                # Checking the remainder when 10 is divided by 3 (modulus function)\n",
        "f = 6**2                # Returns the power (6 raised to the power 2) (exponentiation function)\n",
        "g = 21//5               # Floor Division [21/5 = 4.2 = 4 (takes the floor integer always)]\n",
        "\n",
        "print(\"Addition: {}\".format(a))\n",
        "print(\"Subtraction: {}\".format(b))\n",
        "print(\"Multiplication: {}\".format(c))\n",
        "print(\"Division: {}\".format(d))\n",
        "print(\"Modulus: {}\".format(e))\n",
        "print(\"Exponentiation: {}\".format(f))\n",
        "print(\"Floor Division: {}\".format(g))\n",
        "\n",
        "print()                         # blank space\n",
        "\n",
        "x = 10\n",
        "y = 20\n",
        "result = (x*y)+(x/y)            # BODMAS\n",
        "print(\"Complex Query: {}\".format(result))"
      ]
    },
    {
      "cell_type": "code",
      "source": [
        "# Comparison Operators\n",
        "\n",
        "# CASE 1: == Equals to\n",
        "print(\"CASE 1: == Equals to\")\n",
        "a = 10\n",
        "b = 10\n",
        "print(a==b)               # (compares the values of a and b, if equal then return True else gives False)\n",
        "c = 10\n",
        "d = 5\n",
        "print(c==d)\n",
        "\n",
        "print()                   # Blank Space\n",
        "\n",
        "# CASE 2: != Not Equals to\n",
        "print(\"CASE 2: != Not Equals to\")\n",
        "e = 2\n",
        "f = 2\n",
        "print(a!=b)               # (compares the values of e and f, if not equal then return True else gives False)\n",
        "g = 20\n",
        "h = 15\n",
        "print(c!=d)\n",
        "\n",
        "print()                   # Blank Space\n",
        "\n",
        "# CASE 3: greater than (>) & less than (<)\n",
        "print(\"CASE 3: > & <\")\n",
        "num1 = 2\n",
        "num2 = 5\n",
        "print(num1 > num2)\n",
        "print(num1 < num2)\n",
        "\n",
        "print()\n",
        "\n",
        "# CASE 4: greater than equal to (>=) & less than equal to (<=)\n",
        "print(\"CASE 4: >= & <=\")\n",
        "num1 = 10\n",
        "num2 = 6\n",
        "print(num1 >= num2)\n",
        "print(num1 <= num2)"
      ],
      "metadata": {
        "colab": {
          "base_uri": "https://localhost:8080/"
        },
        "id": "h09-JegDVlHy",
        "outputId": "82edce61-914e-4094-81dc-a705090d2eea"
      },
      "execution_count": 21,
      "outputs": [
        {
          "output_type": "stream",
          "name": "stdout",
          "text": [
            "CASE 1: == Equals to\n",
            "True\n",
            "False\n",
            "\n",
            "CASE 2: != Not Equals to\n",
            "False\n",
            "True\n",
            "\n",
            "CASE 3: > & <\n",
            "False\n",
            "True\n",
            "\n",
            "CASE 4: >= & <=\n",
            "True\n",
            "False\n"
          ]
        }
      ]
    },
    {
      "cell_type": "code",
      "source": [
        "# Logical Operators\n",
        "\n",
        "# CASE 1: \" AND \"\n",
        "print(\"CASE 1: AND Operator\")\n",
        "A = True\n",
        "B = False\n",
        "C = True\n",
        "D = False\n",
        "print(A and C)      # both true so result = true\n",
        "print(B and D)      # both false so result = false\n",
        "print(A and B)      # one true & one false so result is false\n",
        "print(B and C)      # one false & one true so result is false\n",
        "\n",
        "print()\n",
        "\n",
        "# CASE 2: \" OR \"\n",
        "print(\"CASE 2: OR Operator\")\n",
        "A = True\n",
        "B = False\n",
        "C = True\n",
        "D = False\n",
        "print(A or C)      # both true so result = true\n",
        "print(B or D)      # both false so result = false\n",
        "print(A or B)      # if any one is true then result = true\n",
        "print(B or C)\n",
        "\n",
        "print()\n",
        "\n",
        "# CASE 3: \" NOT \"\n",
        "print(\"CASE 3: NOT Operator\")\n",
        "A = True\n",
        "B = False\n",
        "print(not A)      # not A means opposite of A\n",
        "print(not B)"
      ],
      "metadata": {
        "colab": {
          "base_uri": "https://localhost:8080/"
        },
        "id": "-xb8E2_mkxgC",
        "outputId": "a30d0f22-9a85-40c9-c578-c2a0a4e523a1"
      },
      "execution_count": 22,
      "outputs": [
        {
          "output_type": "stream",
          "name": "stdout",
          "text": [
            "CASE 1: AND Operator\n",
            "True\n",
            "False\n",
            "False\n",
            "False\n",
            "\n",
            "CASE 2: OR Operator\n",
            "True\n",
            "False\n",
            "True\n",
            "True\n",
            "\n",
            "CASE 3: NOT Operator\n",
            "False\n",
            "True\n"
          ]
        }
      ]
    },
    {
      "cell_type": "markdown",
      "source": [
        "# **Assignment**\n",
        "Topics Covered:\n",
        "\n",
        "*   Syntax and Semantics\n",
        "*   Variables\n",
        "*   Data Types\n",
        "*   Operators (Arithmetic, Comparison and Logical)\n",
        "\n",
        "\n"
      ],
      "metadata": {
        "id": "deXYr1TEVceT"
      }
    },
    {
      "cell_type": "markdown",
      "source": [
        "**1. Syntax and Semantics**"
      ],
      "metadata": {
        "id": "rPsGk0v7Yg8p"
      }
    },
    {
      "cell_type": "markdown",
      "source": [
        "**Question 1:** Write a Python program to print \"Hello, World!\"."
      ],
      "metadata": {
        "id": "dkXYRdUDYr6e"
      }
    },
    {
      "cell_type": "code",
      "source": [
        "print(\"Hello World\")"
      ],
      "metadata": {
        "colab": {
          "base_uri": "https://localhost:8080/"
        },
        "id": "qmeevxkmYlPR",
        "outputId": "1d8167b0-1d7e-415c-c4bf-8e1ff4ea3061"
      },
      "execution_count": 23,
      "outputs": [
        {
          "output_type": "stream",
          "name": "stdout",
          "text": [
            "Hello World\n"
          ]
        }
      ]
    },
    {
      "cell_type": "markdown",
      "source": [
        "**Question 2:** Write a Python program that takes a user input and prints it."
      ],
      "metadata": {
        "id": "pAIhMeAUYwfl"
      }
    },
    {
      "cell_type": "code",
      "source": [
        "name = input(\"Please enter your name: \")\n",
        "print(f'Your Input: {name}')"
      ],
      "metadata": {
        "colab": {
          "base_uri": "https://localhost:8080/"
        },
        "id": "rkeClELPYzFl",
        "outputId": "f2ef1f0d-60e6-4230-9363-9ef77bf9a81d"
      },
      "execution_count": 24,
      "outputs": [
        {
          "output_type": "stream",
          "name": "stdout",
          "text": [
            "Please enter your name: Garima\n",
            "Your Input: Garima\n"
          ]
        }
      ]
    },
    {
      "cell_type": "markdown",
      "source": [
        "**Question 3:** Write a Python program to check if a number is positive, negative, or zero."
      ],
      "metadata": {
        "id": "qFHeg8eEaek-"
      }
    },
    {
      "cell_type": "code",
      "source": [
        "number = float(input(\"Enter a Number to Check: \"))\n",
        "if number > 0:\n",
        "  print(\"Positive Number\")\n",
        "elif number < 0:\n",
        "  print(\"Negative Number\")\n",
        "else:\n",
        "  print(\"The Number is Zero\")"
      ],
      "metadata": {
        "colab": {
          "base_uri": "https://localhost:8080/"
        },
        "id": "Pj0dRLsTaijM",
        "outputId": "4644ec2e-6369-41ce-c042-9d82eb9eb99e"
      },
      "execution_count": 25,
      "outputs": [
        {
          "output_type": "stream",
          "name": "stdout",
          "text": [
            "Enter a Number to Check: 25\n",
            "Positive Number\n"
          ]
        }
      ]
    },
    {
      "cell_type": "markdown",
      "source": [
        "**Question 4:** Write a Python program to find the largest of three numbers."
      ],
      "metadata": {
        "id": "SpVmaUTaiZXv"
      }
    },
    {
      "cell_type": "code",
      "source": [
        "num1 = float(input(\"Enter first number: \"))\n",
        "num2 = float(input(\"Enter second number: \"))\n",
        "num3 = float(input(\"Enter third number: \"))\n",
        "\n",
        "if (num1 >= num2) and (num1 >= num3):\n",
        "  print(\"The largest number is {}\".format(num1))\n",
        "elif (num2 >= num1) and (num2 >= num3):\n",
        "  print(\"The largest number is {}\".format(num2))\n",
        "else:\n",
        "  print(\"The largest number is {}\".format(num3))"
      ],
      "metadata": {
        "colab": {
          "base_uri": "https://localhost:8080/"
        },
        "id": "tfGbWeIGidP_",
        "outputId": "b888754e-5d94-4c24-8df4-2da198fe5573"
      },
      "execution_count": 26,
      "outputs": [
        {
          "output_type": "stream",
          "name": "stdout",
          "text": [
            "Enter first number: 5\n",
            "Enter second number: 15\n",
            "Enter third number: 7.5\n",
            "The largest number is 15.0\n"
          ]
        }
      ]
    },
    {
      "cell_type": "markdown",
      "source": [
        "**Question 5:** Write a Python program to calculate the factorial of a number."
      ],
      "metadata": {
        "id": "mSPCAqfVGQcC"
      }
    },
    {
      "cell_type": "code",
      "source": [
        "num = int(input(\"Enter a number: \"))\n",
        "\n",
        "def factorial(n):\n",
        "  if n == 0:\n",
        "    return 1\n",
        "  else:\n",
        "    return n * factorial(n-1)\n",
        "\n",
        "if num < 0:\n",
        "  print(\"factorial of a negative number is not possible\")\n",
        "else:\n",
        "  print(f'factorial of {num} is {factorial(num)}')"
      ],
      "metadata": {
        "colab": {
          "base_uri": "https://localhost:8080/"
        },
        "id": "kLms6QjEIoU7",
        "outputId": "c02617d5-d3fb-4be1-b2a4-377ae10d9286"
      },
      "execution_count": 27,
      "outputs": [
        {
          "output_type": "stream",
          "name": "stdout",
          "text": [
            "Enter a number: 5\n",
            "factorial of 5 is 120\n"
          ]
        }
      ]
    },
    {
      "cell_type": "markdown",
      "source": [
        "**2. Variables and Data Types**"
      ],
      "metadata": {
        "id": "C0KihkP8J8LF"
      }
    },
    {
      "cell_type": "markdown",
      "source": [
        "**Question 6:** Create variables of different data types: integer, float, string, and boolean. Print their values and types."
      ],
      "metadata": {
        "id": "Ov251Z-kKE0y"
      }
    },
    {
      "cell_type": "code",
      "source": [
        "integer_variable = 10\n",
        "float_variable = 5.5\n",
        "string_variable = \"Garima\"\n",
        "boolean_variable = True\n",
        "\n",
        "print(f\"Integer Variable: {integer_variable}, Type: {type(integer_variable)}\")\n",
        "print(f\"Float Variable: {float_variable}, Type: {type(float_variable)}\")\n",
        "print(f\"String Variable: {string_variable}, Type: {type(string_variable)}\")\n",
        "print(f\"Boolean Variable: {boolean_variable}, Type: {type(boolean_variable)}\")"
      ],
      "metadata": {
        "colab": {
          "base_uri": "https://localhost:8080/"
        },
        "id": "cBuHp3QoKH4V",
        "outputId": "e048d67a-a29a-4525-cb53-7c9bd56073ac"
      },
      "execution_count": 28,
      "outputs": [
        {
          "output_type": "stream",
          "name": "stdout",
          "text": [
            "Integer Variable: 10, Type: <class 'int'>\n",
            "Float Variable: 5.5, Type: <class 'float'>\n",
            "String Variable: Garima, Type: <class 'str'>\n",
            "Boolean Variable: True, Type: <class 'bool'>\n"
          ]
        }
      ]
    },
    {
      "cell_type": "markdown",
      "source": [
        "**Question 7:** Write a Python program to swap the values of two variables."
      ],
      "metadata": {
        "id": "aJNIjiVOK8ET"
      }
    },
    {
      "cell_type": "code",
      "source": [
        "var1 = input(\"Enter Variable 1: \")\n",
        "var2 = input(\"Enter Variable 2: \")\n",
        "\n",
        "print()\n",
        "\n",
        "# Method 1: Direct Swapping (without using temp variable)\n",
        "print(\"METHOD 1:\")\n",
        "print(f\"Before Swapping: Variable 1 = {var1} and Variable 2 = {var2}\")\n",
        "var1, var2 = var2, var1\n",
        "print(f\"After Swapping: Variable 1 = {var1} and Variable 2 = {var2}\")\n",
        "\n",
        "print() # Now the values have been already swapped and for the next method we are using these swapped values.\n",
        "\n",
        "# Method 2: Using a temperory varibale\n",
        "print(\"METHOD 2:\")\n",
        "print(f\"Before Swapping: Variable 1 = {var1} and Variable 2 = {var2}\")\n",
        "temp = var1\n",
        "var1 = var2\n",
        "var2 = temp\n",
        "print(f\"After Swapping: Variable 1 = {var1} and Variable 2 = {var2}\")"
      ],
      "metadata": {
        "colab": {
          "base_uri": "https://localhost:8080/"
        },
        "id": "VxLNqziFK-vH",
        "outputId": "bd8f3f8d-ff75-4335-fce3-57f73e9ebc18"
      },
      "execution_count": 29,
      "outputs": [
        {
          "output_type": "stream",
          "name": "stdout",
          "text": [
            "Enter Variable 1: 45\n",
            "Enter Variable 2: 10\n",
            "\n",
            "METHOD 1:\n",
            "Before Swapping: Variable 1 = 45 and Variable 2 = 10\n",
            "After Swapping: Variable 1 = 10 and Variable 2 = 45\n",
            "\n",
            "METHOD 2:\n",
            "Before Swapping: Variable 1 = 10 and Variable 2 = 45\n",
            "After Swapping: Variable 1 = 45 and Variable 2 = 10\n"
          ]
        }
      ]
    },
    {
      "cell_type": "markdown",
      "source": [
        "**Question 8:** Write a Python program to convert Celsius to Fahrenheit."
      ],
      "metadata": {
        "id": "zGuCN8UKPn-E"
      }
    },
    {
      "cell_type": "code",
      "source": [
        "celsius = float(input(\"Enter Temperature in Celsius: \"))\n",
        "fahrenheit = (celsius * 9/5) + 32\n",
        "print(f\"{celsius}°C is equal to {fahrenheit}°F\")"
      ],
      "metadata": {
        "colab": {
          "base_uri": "https://localhost:8080/"
        },
        "id": "AwUw3eOMPqzp",
        "outputId": "9ecebe7b-0324-4e3e-9a13-7345c3ab5418"
      },
      "execution_count": 30,
      "outputs": [
        {
          "output_type": "stream",
          "name": "stdout",
          "text": [
            "Enter Temperature in Celsius: 99.5\n",
            "99.5°C is equal to 211.1°F\n"
          ]
        }
      ]
    },
    {
      "cell_type": "markdown",
      "source": [
        "**Question 9:** Write a Python program to concatenate two strings."
      ],
      "metadata": {
        "id": "XTZ1xFItQFRA"
      }
    },
    {
      "cell_type": "code",
      "source": [
        "str1 = input(\"Enter String 1: \")\n",
        "str2 = input(\"Enter String 2: \")\n",
        "concatenation = str1 + \" \" + str2\n",
        "print(f\"Concatenated String: {concatenation}\")"
      ],
      "metadata": {
        "colab": {
          "base_uri": "https://localhost:8080/"
        },
        "id": "a4WTLaxNQH47",
        "outputId": "3999e3eb-2627-4099-b7b0-a7e99895cf24"
      },
      "execution_count": 31,
      "outputs": [
        {
          "output_type": "stream",
          "name": "stdout",
          "text": [
            "Enter String 1: Hello\n",
            "Enter String 2: World\n",
            "Concatenated String: Hello World\n"
          ]
        }
      ]
    },
    {
      "cell_type": "markdown",
      "source": [
        "**Question 10:** Write a Python program to check if a variable is of a specific data type."
      ],
      "metadata": {
        "id": "qAtceLtNTOCz"
      }
    },
    {
      "cell_type": "code",
      "source": [
        "var = 10.5\n",
        "if isinstance (var, float):\n",
        "  print(f\"variable {var} is float\")\n",
        "else:\n",
        "  print(f\"variable {var} is not float\")"
      ],
      "metadata": {
        "colab": {
          "base_uri": "https://localhost:8080/"
        },
        "id": "yAeTYDyfTpte",
        "outputId": "66946d5b-12f0-4d3a-d886-e8e3ea5c14f5"
      },
      "execution_count": 32,
      "outputs": [
        {
          "output_type": "stream",
          "name": "stdout",
          "text": [
            "variable 10.5 is float\n"
          ]
        }
      ]
    },
    {
      "cell_type": "markdown",
      "source": [
        "**3. Operators (Arithmetic, Comparison and Logical)**"
      ],
      "metadata": {
        "id": "7yd2mj7YUd4L"
      }
    },
    {
      "cell_type": "markdown",
      "source": [
        "**Question 11:** Write a Python program to perform arithmetic operations: addition, subtraction, multiplication, and division."
      ],
      "metadata": {
        "id": "DWvpZdJ8Ud0n"
      }
    },
    {
      "cell_type": "code",
      "source": [
        "a = 5\n",
        "b = 10\n",
        "\n",
        "add = a + b\n",
        "sub = a - b\n",
        "multiply = a * b\n",
        "divide = a / b\n",
        "\n",
        "print(f\"Addition: {a} + {b} = {add}\")\n",
        "print(f\"Subtraction: {a} - {b} = {sub}\")\n",
        "print(f\"Multiplication: {a} * {b} = {multiply}\")\n",
        "print(f\"Division: {a} / {b} = {divide}\")"
      ],
      "metadata": {
        "colab": {
          "base_uri": "https://localhost:8080/"
        },
        "id": "PmEEhgo1U9D1",
        "outputId": "2088a391-c580-4044-91ad-7ba23c4ee691"
      },
      "execution_count": 33,
      "outputs": [
        {
          "output_type": "stream",
          "name": "stdout",
          "text": [
            "Addition: 5 + 10 = 15\n",
            "Subtraction: 5 - 10 = -5\n",
            "Multiplication: 5 * 10 = 50\n",
            "Division: 5 / 10 = 0.5\n"
          ]
        }
      ]
    },
    {
      "cell_type": "markdown",
      "source": [
        "**Question 12:** Write a Python program to demonstrate comparison operators: equal to, not equal to, greater than, less than."
      ],
      "metadata": {
        "id": "91KhOlKRUdxe"
      }
    },
    {
      "cell_type": "code",
      "source": [
        "x = 10\n",
        "y = 15\n",
        "\n",
        "print(f\"{x} > {y} = {x > y}\")\n",
        "print(f\"{x} < {y} = {x < y}\")\n",
        "print(f\"{x} = {y} = {x == y}\")\n",
        "print(f\"{x} != {y} = {x != y}\")"
      ],
      "metadata": {
        "colab": {
          "base_uri": "https://localhost:8080/"
        },
        "id": "kukAeR2sWX6K",
        "outputId": "0c7fc62a-c420-4483-c19d-abbf947d1d34"
      },
      "execution_count": 34,
      "outputs": [
        {
          "output_type": "stream",
          "name": "stdout",
          "text": [
            "10 > 15 = False\n",
            "10 < 15 = True\n",
            "10 = 15 = False\n",
            "10 != 15 = True\n"
          ]
        }
      ]
    },
    {
      "cell_type": "markdown",
      "source": [
        "**Question 13:** Write a Python program to demonstrate logical operators: and, or, not."
      ],
      "metadata": {
        "id": "k_oDO00hWdR3"
      }
    },
    {
      "cell_type": "code",
      "source": [
        "p = True\n",
        "q = False\n",
        "r = True\n",
        "\n",
        "print(f\"{p} AND {q} = {p and q}\")\n",
        "print(f\"{p} AND {r} = {p and r}\")\n",
        "print(f\"{p} OR {q} = {p or q}\")\n",
        "print(f\"NOT {p} = {not p}\")\n",
        "print(f\"NOT {q} = {not q}\")"
      ],
      "metadata": {
        "colab": {
          "base_uri": "https://localhost:8080/"
        },
        "id": "P93a-8qZWePu",
        "outputId": "8c1befef-04f1-4935-f687-ae4b8b4b5dbc"
      },
      "execution_count": 35,
      "outputs": [
        {
          "output_type": "stream",
          "name": "stdout",
          "text": [
            "True AND False = False\n",
            "True AND True = True\n",
            "True OR False = True\n",
            "NOT True = False\n",
            "NOT False = True\n"
          ]
        }
      ]
    },
    {
      "cell_type": "markdown",
      "source": [
        "**Question 14:** Write a Python program to calculate the square of a number."
      ],
      "metadata": {
        "id": "k6e1DXIoWerF"
      }
    },
    {
      "cell_type": "code",
      "source": [
        "n1 = float(input(\"Enter a Number: \"))\n",
        "square = n1 ** 2\n",
        "print(f\"Square of {n1} = {square}\")"
      ],
      "metadata": {
        "colab": {
          "base_uri": "https://localhost:8080/"
        },
        "id": "oMllRrUMWhB7",
        "outputId": "4ab6bdcc-c06b-41cb-a0fa-cecaf557cc0c"
      },
      "execution_count": 36,
      "outputs": [
        {
          "output_type": "stream",
          "name": "stdout",
          "text": [
            "Enter a Number: 5\n",
            "Square of 5.0 = 25.0\n"
          ]
        }
      ]
    },
    {
      "cell_type": "markdown",
      "source": [
        "**Question 15:** Write a Python program to check if a number is even or odd."
      ],
      "metadata": {
        "id": "glkZgN8PWhma"
      }
    },
    {
      "cell_type": "code",
      "source": [
        "n1 = int(input(\"Enter a Number: \"))\n",
        "if n1 % 2 == 0:\n",
        "  print(f\"{n1} is even.\")\n",
        "else:\n",
        "  print(f\"{n1} is odd\")"
      ],
      "metadata": {
        "colab": {
          "base_uri": "https://localhost:8080/"
        },
        "id": "wYIkDKa-Wkf2",
        "outputId": "7092a5ac-b063-4761-fbff-3da2d774da33"
      },
      "execution_count": 37,
      "outputs": [
        {
          "output_type": "stream",
          "name": "stdout",
          "text": [
            "Enter a Number: 65\n",
            "65 is odd\n"
          ]
        }
      ]
    },
    {
      "cell_type": "markdown",
      "source": [
        "**Question 16:** Write a Python program to find the sum of the first n natural numbers."
      ],
      "metadata": {
        "id": "eCChhS1PafGj"
      }
    },
    {
      "cell_type": "code",
      "source": [
        "n1 = int(input(\"Enter a Number: \"))\n",
        "sum = (n1 * (n1 + 1)) / 2\n",
        "print(f\"Sum of first {n1} natural numbers = {sum}\")"
      ],
      "metadata": {
        "colab": {
          "base_uri": "https://localhost:8080/"
        },
        "id": "tYKCDHK3ahVY",
        "outputId": "13b50960-cb14-47d3-d5e8-00a9096384be"
      },
      "execution_count": 38,
      "outputs": [
        {
          "output_type": "stream",
          "name": "stdout",
          "text": [
            "Enter a Number: 8\n",
            "Sum of first 8 natural numbers = 36.0\n"
          ]
        }
      ]
    },
    {
      "cell_type": "markdown",
      "source": [
        "**Question 17:** Write a Python program to check if a year is a leap year."
      ],
      "metadata": {
        "id": "nf9BKDDTfUyp"
      }
    },
    {
      "cell_type": "code",
      "source": [
        "year = int(input(\"Enter a year: \"))\n",
        "if (year % 4 == 0 and year % 100 != 0) or (year % 400 == 0):\n",
        "    print(f\"{year} is a leap year.\")\n",
        "else:\n",
        "    print(f\"{year} is not a leap year.\")"
      ],
      "metadata": {
        "colab": {
          "base_uri": "https://localhost:8080/"
        },
        "id": "HYNnXIEsfxun",
        "outputId": "695df783-7e51-4c17-cda8-52e8b0c00a88"
      },
      "execution_count": 39,
      "outputs": [
        {
          "output_type": "stream",
          "name": "stdout",
          "text": [
            "Enter a year: 2025\n",
            "2025 is not a leap year.\n"
          ]
        }
      ]
    },
    {
      "cell_type": "markdown",
      "source": [
        "**Question 18:** Write a Python program to reverse a string."
      ],
      "metadata": {
        "id": "yoZqEXlcfY1S"
      }
    },
    {
      "cell_type": "code",
      "source": [
        "str1 = input(\"Enter a string: \")\n",
        "reversed_str1 = str1[::-1]\n",
        "print(f\"The reversed string is: {reversed_str1}\")"
      ],
      "metadata": {
        "colab": {
          "base_uri": "https://localhost:8080/"
        },
        "id": "Myye9Fw4fiUT",
        "outputId": "1fbd72a9-bbb5-4bdf-ec37-8b2ee8f96793"
      },
      "execution_count": 40,
      "outputs": [
        {
          "output_type": "stream",
          "name": "stdout",
          "text": [
            "Enter a string: 12345\n",
            "The reversed string is: 54321\n"
          ]
        }
      ]
    },
    {
      "cell_type": "markdown",
      "source": [
        "**Question 19:** Write a Python program to check if a string is a palindrome."
      ],
      "metadata": {
        "id": "ZGKprgnTfizf"
      }
    },
    {
      "cell_type": "code",
      "source": [
        "str1 = input(\"Enter a string: \")\n",
        "if str1 == str1[::-1]:\n",
        "    print(f\"{str1} is a palindrome.\")\n",
        "else:\n",
        "    print(f\"{str1} is not a palindrome.\")"
      ],
      "metadata": {
        "colab": {
          "base_uri": "https://localhost:8080/"
        },
        "id": "zPmndxOEfjlt",
        "outputId": "c47c9a45-d672-4aa2-a8a1-9e4bdbc90692"
      },
      "execution_count": 41,
      "outputs": [
        {
          "output_type": "stream",
          "name": "stdout",
          "text": [
            "Enter a string: madam\n",
            "madam is a palindrome.\n"
          ]
        }
      ]
    },
    {
      "cell_type": "markdown",
      "source": [
        "**Question 20:** Write a Python program to sort a list of numbers in ascending order."
      ],
      "metadata": {
        "id": "93COHsEwfkG-"
      }
    },
    {
      "cell_type": "code",
      "source": [
        "numbers = [int(x) for x in input(\"Enter numbers separated by space: \").split()]\n",
        "numbers.sort()\n",
        "print(f\"Sorted list: {numbers}\")"
      ],
      "metadata": {
        "colab": {
          "base_uri": "https://localhost:8080/"
        },
        "id": "GUdqUSQ3fmQ3",
        "outputId": "ea6265f5-6e5c-41f7-fcad-64bfaced191d"
      },
      "execution_count": 42,
      "outputs": [
        {
          "output_type": "stream",
          "name": "stdout",
          "text": [
            "Enter numbers separated by space: 65 4 15 25 80\n",
            "Sorted list: [4, 15, 25, 65, 80]\n"
          ]
        }
      ]
    },
    {
      "cell_type": "markdown",
      "source": [
        "**Write a Python program to make a simple calculator**"
      ],
      "metadata": {
        "id": "ZHMGfQMAS_N_"
      }
    },
    {
      "cell_type": "code",
      "source": [
        "num1 = float(input(\"Enter First Number: \"))\n",
        "num2 = float(input(\"Enter Second Number: \"))\n",
        "\n",
        "# Performing Arithmetic Operations:\n",
        "add = num1 + num2\n",
        "sub = num1 - num2\n",
        "multiply = num1 * num2\n",
        "divide = num1 / num2\n",
        "floor_division = num1 // num2\n",
        "modulus = num1 % num2\n",
        "exponentiation = num1 ** num2\n",
        "\n",
        "# Displaying Results:\n",
        "print(f\"Addition: {num1} + {num2} = {add}\")\n",
        "print(f\"Subtraction: {num1} - {num2} = {sub}\")\n",
        "print(f\"Multiplication: {num1} * {num2} = {multiply}\")\n",
        "print(f\"Division: {num1} / {num2} = {divide}\")\n",
        "print(f\"Floor Division: {num1} // {num2} = {floor_division}\")\n",
        "print(f\"Modulus: {num1} % {num2} = {modulus}\")\n",
        "print(f\"Exponentiation: {num1} ** {num2} = {exponentiation}\")"
      ],
      "metadata": {
        "colab": {
          "base_uri": "https://localhost:8080/"
        },
        "id": "0yN9IuvCTaIX",
        "outputId": "dbc86d0b-dc4b-4499-9d08-c9d4f2c5f900"
      },
      "execution_count": 43,
      "outputs": [
        {
          "output_type": "stream",
          "name": "stdout",
          "text": [
            "Enter First Number: 5\n",
            "Enter Second Number: 2\n",
            "Addition: 5.0 + 2.0 = 7.0\n",
            "Subtraction: 5.0 - 2.0 = 3.0\n",
            "Multiplication: 5.0 * 2.0 = 10.0\n",
            "Division: 5.0 / 2.0 = 2.5\n",
            "Floor Division: 5.0 // 2.0 = 2.0\n",
            "Modulus: 5.0 % 2.0 = 1.0\n",
            "Exponentiation: 5.0 ** 2.0 = 25.0\n"
          ]
        }
      ]
    },
    {
      "cell_type": "markdown",
      "source": [
        "---\n",
        "**Basics of Python - Done ✅**\n",
        "---"
      ],
      "metadata": {
        "id": "9QQNuMDWlSwm"
      }
    }
  ]
}