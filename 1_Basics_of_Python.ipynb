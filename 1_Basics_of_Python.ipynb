{
  "nbformat": 4,
  "nbformat_minor": 0,
  "metadata": {
    "colab": {
      "provenance": [],
      "authorship_tag": "ABX9TyPLFBOLTwsxrD2hu5vwLzHT"
    },
    "kernelspec": {
      "name": "python3",
      "display_name": "Python 3"
    },
    "language_info": {
      "name": "python"
    }
  },
  "cells": [
    {
      "cell_type": "markdown",
      "source": [
        "# **Basic of Python**\n",
        "\n",
        "🎯 In this module we will discuss about the followings:\n",
        "\n",
        "\n",
        "*   Variables\n",
        "*   Print Formatting\n",
        "*   DataTypes\n",
        "*   Operators"
      ],
      "metadata": {
        "id": "rtPtYqTU3nXv"
      }
    },
    {
      "cell_type": "markdown",
      "source": [
        "# **Variables in Python**\n",
        "\n",
        "Variables are containers for storing data values.\n",
        "\n",
        "A variable is created the moment you first assign a value to it."
      ],
      "metadata": {
        "id": "FcrdwPXJ9B6O"
      }
    },
    {
      "cell_type": "code",
      "source": [
        "# Creating Variables\n",
        "\n",
        "a = 10\n",
        "name = 'Garima'\n",
        "print(a)\n",
        "print(name)"
      ],
      "metadata": {
        "colab": {
          "base_uri": "https://localhost:8080/"
        },
        "id": "EarUQHeH-XbT",
        "outputId": "94d56131-398b-45ae-f86f-82ee22a680b7"
      },
      "execution_count": 1,
      "outputs": [
        {
          "output_type": "stream",
          "name": "stdout",
          "text": [
            "10\n",
            "Garima\n"
          ]
        }
      ]
    },
    {
      "cell_type": "code",
      "source": [
        "# We can't call the variable which is not declared or defined\n",
        "\n",
        "print(b)\n",
        "\n",
        "# it will return error - NameError: name 'b' is not defined"
      ],
      "metadata": {
        "id": "FAgSaxKL-m2s",
        "colab": {
          "base_uri": "https://localhost:8080/",
          "height": 211
        },
        "outputId": "2dae4dde-3aaf-4142-d2cb-254ad0c89869"
      },
      "execution_count": 2,
      "outputs": [
        {
          "output_type": "error",
          "ename": "NameError",
          "evalue": "name 'b' is not defined",
          "traceback": [
            "\u001b[0;31m---------------------------------------------------------------------------\u001b[0m",
            "\u001b[0;31mNameError\u001b[0m                                 Traceback (most recent call last)",
            "\u001b[0;32m<ipython-input-2-f8d561106a67>\u001b[0m in \u001b[0;36m<cell line: 3>\u001b[0;34m()\u001b[0m\n\u001b[1;32m      1\u001b[0m \u001b[0;31m# We can't call the variable which is not declared or defined\u001b[0m\u001b[0;34m\u001b[0m\u001b[0;34m\u001b[0m\u001b[0m\n\u001b[1;32m      2\u001b[0m \u001b[0;34m\u001b[0m\u001b[0m\n\u001b[0;32m----> 3\u001b[0;31m \u001b[0mprint\u001b[0m\u001b[0;34m(\u001b[0m\u001b[0mb\u001b[0m\u001b[0;34m)\u001b[0m\u001b[0;34m\u001b[0m\u001b[0;34m\u001b[0m\u001b[0m\n\u001b[0m\u001b[1;32m      4\u001b[0m \u001b[0;34m\u001b[0m\u001b[0m\n\u001b[1;32m      5\u001b[0m \u001b[0;31m# it will return error - NameError: name 'b' is not defined\u001b[0m\u001b[0;34m\u001b[0m\u001b[0;34m\u001b[0m\u001b[0m\n",
            "\u001b[0;31mNameError\u001b[0m: name 'b' is not defined"
          ]
        }
      ]
    },
    {
      "cell_type": "code",
      "source": [
        "# Variables don't have their own particular type\n",
        "# for eg: variable x can be declared as integer first and then again as string\n",
        "\n",
        "x = 5                       # x is of type integer\n",
        "x = 'Garima'                # now x is of type string\n",
        "\n",
        "# now print x, and you will get the latest declartion as the output\n",
        "print(x)"
      ],
      "metadata": {
        "colab": {
          "base_uri": "https://localhost:8080/"
        },
        "id": "ntVxLfwGCaYC",
        "outputId": "e949a978-5065-41bf-a847-f9f5a6172fa4"
      },
      "execution_count": 3,
      "outputs": [
        {
          "output_type": "stream",
          "name": "stdout",
          "text": [
            "Garima\n"
          ]
        }
      ]
    },
    {
      "cell_type": "code",
      "source": [
        "# If you want to specify the data type of a variable, then do \"Casting\"\n",
        "\n",
        "p = str(5)                  # p will be '5'\n",
        "q = int(5)                  # q will be 5\n",
        "r = float(5)                # r will be 5.0\n",
        "\n",
        "print(p)\n",
        "print(q)\n",
        "print(r)"
      ],
      "metadata": {
        "colab": {
          "base_uri": "https://localhost:8080/"
        },
        "id": "Ogn3Uq53DxQ0",
        "outputId": "16ee3b72-57c1-4c6f-dc38-98ac56da8802"
      },
      "execution_count": 4,
      "outputs": [
        {
          "output_type": "stream",
          "name": "stdout",
          "text": [
            "5\n",
            "5\n",
            "5.0\n"
          ]
        }
      ]
    },
    {
      "cell_type": "code",
      "source": [
        "# We can check the datatype of a variable with \" type() \" function\n",
        "\n",
        "print(type(r))                     # r = float(5)\n",
        "print(type(x))                     # x = 'Garima'\n",
        "print(type(a))                     # a = 10"
      ],
      "metadata": {
        "colab": {
          "base_uri": "https://localhost:8080/"
        },
        "id": "5l0Lx4sMEmhc",
        "outputId": "69ce0db8-e212-4a88-91d2-1dbec88cce8d"
      },
      "execution_count": 5,
      "outputs": [
        {
          "output_type": "stream",
          "name": "stdout",
          "text": [
            "<class 'float'>\n",
            "<class 'str'>\n",
            "<class 'int'>\n"
          ]
        }
      ]
    },
    {
      "cell_type": "code",
      "source": [
        "# Variables are case sensitive (i.e. 'g' and 'G' are not same)\n",
        "\n",
        "g = 2\n",
        "G = 'Hello'\n",
        "\n",
        "# g will not overwrite G\n",
        "\n",
        "print(g)\n",
        "print(G)"
      ],
      "metadata": {
        "colab": {
          "base_uri": "https://localhost:8080/"
        },
        "id": "3TkatZOEFYtR",
        "outputId": "8c5f4760-c10b-4b20-d9f3-f66ab06d773b"
      },
      "execution_count": 6,
      "outputs": [
        {
          "output_type": "stream",
          "name": "stdout",
          "text": [
            "2\n",
            "Hello\n"
          ]
        }
      ]
    },
    {
      "cell_type": "code",
      "source": [
        "# We can declare multiple variables together\n",
        "\n",
        "name, age, gender = 'Garima', 25, 'Female'\n",
        "\n",
        "print(name)\n",
        "print(gender)\n",
        "print(age)"
      ],
      "metadata": {
        "colab": {
          "base_uri": "https://localhost:8080/"
        },
        "id": "e0eY-NPz_VUc",
        "outputId": "96c8d989-f352-4cce-d13a-52c0c39ad4e8"
      },
      "execution_count": 7,
      "outputs": [
        {
          "output_type": "stream",
          "name": "stdout",
          "text": [
            "Garima\n",
            "Female\n",
            "25\n"
          ]
        }
      ]
    },
    {
      "cell_type": "code",
      "source": [
        "# We can declare same value to multiple variables together\n",
        "\n",
        "u = v = w = 'Garima'\n",
        "\n",
        "print(u)\n",
        "print(v)\n",
        "print(w)"
      ],
      "metadata": {
        "colab": {
          "base_uri": "https://localhost:8080/"
        },
        "id": "2VyGsF-iGMGI",
        "outputId": "fa37acad-4d17-4229-edbc-48550f8b9276"
      },
      "execution_count": 8,
      "outputs": [
        {
          "output_type": "stream",
          "name": "stdout",
          "text": [
            "Garima\n",
            "Garima\n",
            "Garima\n"
          ]
        }
      ]
    },
    {
      "cell_type": "code",
      "source": [
        "# With \" print() \" function we can output multiple variables together\n",
        "\n",
        "# CASE 1: simply sepearting the variables with comma [BEST METHOD]\n",
        "x = \"Python\"\n",
        "y = \"is\"\n",
        "z = \"awesome\"\n",
        "print(\"Output for CASE 1:\")\n",
        "print(x, y, z)\n",
        "\n",
        "print()\n",
        "\n",
        "# CASE 2: using + sign to output mutiple variables together\n",
        "x = \"Python \"\n",
        "y = \"is \"\n",
        "z = \"awesome\"\n",
        "print(\"Output for CASE 2: \")\n",
        "print(x + y + z)\n",
        "\n",
        "print()\n",
        "\n",
        "\"\"\"\n",
        "remember to add space character after \"python \" and \"is \"\n",
        "without spaces the output will be \"Pythonisawesome\" in case of (+) sign\n",
        "in case of commas (,) there is no problem of spaces\n",
        "\"\"\"\n",
        "\n",
        "# CASE 3: for numbers (+) sign works as a operator\n",
        "x = 5\n",
        "y = 10\n",
        "print(\"Output for CASE 3: \")\n",
        "print(x + y)\n",
        "\n",
        "print()\n",
        "\n",
        "# NOTE: (+) sign does not combine variables with different datatypes, whereas there is no problem like this with (,) comma case\n",
        "x = 5\n",
        "y = \"John\"\n",
        "print(\"Output for Note 1: \")\n",
        "print(x, y)                    # CORRECT [BEST METHOD]\n",
        "\n",
        "print()\n",
        "\n",
        "x = 5\n",
        "y = \"John\"\n",
        "print(\"Output for Note 2: \")\n",
        "print(x + y)                   # Gives ERROR - different datatypes so can't combine\n"
      ],
      "metadata": {
        "colab": {
          "base_uri": "https://localhost:8080/",
          "height": 401
        },
        "id": "NC7cMRGDG0c2",
        "outputId": "63a7db47-a63f-440d-b8c0-c2b5240b18b2"
      },
      "execution_count": 9,
      "outputs": [
        {
          "output_type": "stream",
          "name": "stdout",
          "text": [
            "Output for CASE 1:\n",
            "Python is awesome\n",
            "\n",
            "Output for CASE 2: \n",
            "Python is awesome\n",
            "\n",
            "Output for CASE 3: \n",
            "15\n",
            "\n",
            "Output for Note 1: \n",
            "5 John\n",
            "\n",
            "Output for Note 2: \n"
          ]
        },
        {
          "output_type": "error",
          "ename": "TypeError",
          "evalue": "unsupported operand type(s) for +: 'int' and 'str'",
          "traceback": [
            "\u001b[0;31m---------------------------------------------------------------------------\u001b[0m",
            "\u001b[0;31mTypeError\u001b[0m                                 Traceback (most recent call last)",
            "\u001b[0;32m<ipython-input-9-e0577e6b794e>\u001b[0m in \u001b[0;36m<cell line: 46>\u001b[0;34m()\u001b[0m\n\u001b[1;32m     44\u001b[0m \u001b[0my\u001b[0m \u001b[0;34m=\u001b[0m \u001b[0;34m\"John\"\u001b[0m\u001b[0;34m\u001b[0m\u001b[0;34m\u001b[0m\u001b[0m\n\u001b[1;32m     45\u001b[0m \u001b[0mprint\u001b[0m\u001b[0;34m(\u001b[0m\u001b[0;34m\"Output for Note 2: \"\u001b[0m\u001b[0;34m)\u001b[0m\u001b[0;34m\u001b[0m\u001b[0;34m\u001b[0m\u001b[0m\n\u001b[0;32m---> 46\u001b[0;31m \u001b[0mprint\u001b[0m\u001b[0;34m(\u001b[0m\u001b[0mx\u001b[0m \u001b[0;34m+\u001b[0m \u001b[0my\u001b[0m\u001b[0;34m)\u001b[0m                   \u001b[0;31m# Gives ERROR\u001b[0m\u001b[0;34m\u001b[0m\u001b[0;34m\u001b[0m\u001b[0m\n\u001b[0m",
            "\u001b[0;31mTypeError\u001b[0m: unsupported operand type(s) for +: 'int' and 'str'"
          ]
        }
      ]
    },
    {
      "cell_type": "markdown",
      "source": [
        "# **Ways of Printing in Python**"
      ],
      "metadata": {
        "id": "lWRyDPkLYCF8"
      }
    },
    {
      "cell_type": "code",
      "source": [
        "print('Hello')              # with single quotes\n",
        "print(\"Hello\")              # with double quotes"
      ],
      "metadata": {
        "colab": {
          "base_uri": "https://localhost:8080/"
        },
        "id": "tMXM_brqYJOP",
        "outputId": "ae715557-aad4-4e7c-aadb-c4893f88d905"
      },
      "execution_count": 10,
      "outputs": [
        {
          "output_type": "stream",
          "name": "stdout",
          "text": [
            "Hello\n",
            "Hello\n"
          ]
        }
      ]
    },
    {
      "cell_type": "code",
      "source": [
        "name = 'Garima'\n",
        "surname = 'Ahuja'\n",
        "print(\"My first name is {} and last name is {}\".format(name,surname))"
      ],
      "metadata": {
        "colab": {
          "base_uri": "https://localhost:8080/"
        },
        "id": "3fbfymZyYN2F",
        "outputId": "e81909aa-4438-4db7-db47-a958f01f3832"
      },
      "execution_count": 11,
      "outputs": [
        {
          "output_type": "stream",
          "name": "stdout",
          "text": [
            "My first name is Garima and last name is Ahuja\n"
          ]
        }
      ]
    },
    {
      "cell_type": "code",
      "source": [
        "name = 'Garima'\n",
        "surname = 'Ahuja'\n",
        "print(\"My first name is {name} and last name is {surname}\".format(name=name,surname=surname))"
      ],
      "metadata": {
        "colab": {
          "base_uri": "https://localhost:8080/"
        },
        "id": "ZgO8M2eHYR-R",
        "outputId": "400c0e74-2331-452a-b53c-be3172bae325"
      },
      "execution_count": 12,
      "outputs": [
        {
          "output_type": "stream",
          "name": "stdout",
          "text": [
            "My first name is Garima and last name is Ahuja\n"
          ]
        }
      ]
    },
    {
      "cell_type": "markdown",
      "source": [
        "# **Python Data Types**\n",
        "\n",
        "We have various datatypes in python. Some of the major ones are:\n",
        "integer, float, complex, string, boolean, list, tuple, range, dictionary"
      ],
      "metadata": {
        "id": "jNEzvJ6D4Hk0"
      }
    },
    {
      "cell_type": "code",
      "source": [
        "# Setting the DataTypes\n",
        "\n",
        "a = 'Hello Garima'                                          # string (str)\n",
        "b = 15                                                      # integer (int)\n",
        "c = 20.5                                                    # float\n",
        "d = 6+2j                                                    # complex\n",
        "e = [\"Apple\", \"Orange\", \"Cherry\"]                           # list\n",
        "f = (\"Apple\", \"Orange\", \"Cherry\")                           # tuple\n",
        "g = range(5)                                                # range\n",
        "h = {\"name\": \"Garima\", \"Age\": 25}                           # dict\n",
        "i = {\"Apple\", \"Orange\", \"Cherry\"}                           # set\n",
        "j = True                                                    # bool"
      ],
      "metadata": {
        "id": "bDnXcOip3ZFz"
      },
      "execution_count": 13,
      "outputs": []
    },
    {
      "cell_type": "code",
      "source": [
        "# check the data type of any variable - type() function\n",
        "\n",
        "print(type(f))\n",
        "print(type(i))\n",
        "print(type(d))\n",
        "print(type(h))\n",
        "\n",
        "# Note: everything in python is a object and objects have class that's why it is written as <class 'tuple'>"
      ],
      "metadata": {
        "colab": {
          "base_uri": "https://localhost:8080/"
        },
        "id": "vYbNanPv5QlR",
        "outputId": "b1f4802c-38b2-4f55-894e-0c295c63c767"
      },
      "execution_count": 14,
      "outputs": [
        {
          "output_type": "stream",
          "name": "stdout",
          "text": [
            "<class 'tuple'>\n",
            "<class 'set'>\n",
            "<class 'complex'>\n",
            "<class 'dict'>\n"
          ]
        }
      ]
    },
    {
      "cell_type": "code",
      "source": [
        "# Check the length of the string\n",
        "\n",
        "a = 'Hello Garima'               # space is also a character and it is also counted\n",
        "len(a)"
      ],
      "metadata": {
        "colab": {
          "base_uri": "https://localhost:8080/"
        },
        "id": "afxoGZ9aUay1",
        "outputId": "1080d7c6-220b-4691-9197-99350479258f"
      },
      "execution_count": 15,
      "outputs": [
        {
          "output_type": "execute_result",
          "data": {
            "text/plain": [
              "12"
            ]
          },
          "metadata": {},
          "execution_count": 15
        }
      ]
    },
    {
      "cell_type": "code",
      "source": [
        "# Complex DataType\n",
        "\n",
        "# Example 1:\n",
        "x = 3+5j                           # defined complex number\n",
        "print(type(x))                     # checking datatype\n",
        "print(x.real)                      # returning the \"real\" part of the complex number\n",
        "print(x.imag)                      # returning the \"imaginary\" part of the complex number\n",
        "\n",
        "print()\n",
        "\n",
        "# Example 2:\n",
        "y = 7.8+3.2j                       # another example\n",
        "print(type(y))\n",
        "print(y.real)\n",
        "print(y.imag)\n",
        "\n",
        "print()\n",
        "\n",
        "# Creating complex number by using function\n",
        "# generating complex number by defining both real & imag part in function\n",
        "n = complex(4,2)      # here 4 is the real part & 2 is the imaginary part\n",
        "print(\"Complex Number 1: {}\". format (n))\n",
        "\n",
        "print()\n",
        "\n",
        "# generating complex number by defining only one part (i.e. real)\n",
        "m = complex(9)\n",
        "print(\"Complex Number 2: {}\". format (m))\n",
        "# this complex number will have 9 as the real part & imaginary part is not defined so it will take it as by default '0'"
      ],
      "metadata": {
        "colab": {
          "base_uri": "https://localhost:8080/"
        },
        "id": "nBAUi07dBm0F",
        "outputId": "4884285b-3117-4e3f-c7eb-4a563cb290b2"
      },
      "execution_count": 16,
      "outputs": [
        {
          "output_type": "stream",
          "name": "stdout",
          "text": [
            "<class 'complex'>\n",
            "3.0\n",
            "5.0\n",
            "\n",
            "<class 'complex'>\n",
            "7.8\n",
            "3.2\n",
            "\n",
            "Complex Number 1: (4+2j)\n",
            "\n",
            "Complex Number 2: (9+0j)\n"
          ]
        }
      ]
    },
    {
      "cell_type": "code",
      "source": [
        "# DataType Conversion\n",
        "\n",
        "x = 2\n",
        "y = 3.8\n",
        "z = 6+4j\n",
        "w = 'hello'\n",
        "print(type(y))                 # currently the type is float\n",
        "print(type(w))                 # currently the type is string\n",
        "\n",
        "print()\n",
        "\n",
        "# let's change float type to int\n",
        "a = int(y)                     # changing 'float y' into 'int'\n",
        "b = float(x)                   # changing 'int x' into 'float'\n",
        "c = bool(w)                    # changing 'string w' into 'bool'\n",
        "\n",
        "# let's check by printing\n",
        "print(a)\n",
        "print(b)\n",
        "print(c)\n",
        "\n",
        "print()\n",
        "\n",
        "# let's check the type of each variable\n",
        "print(type(a))\n",
        "print(type(b))\n",
        "print(type(c))\n",
        "\n",
        "print()\n",
        "\n",
        "\"\"\"\n",
        "NOTE: Only complex number can't be converted into int and float type.\n",
        "And naming strings can't be converted into int, float & complex.\n",
        "Rest all type of conversions are possible.\n",
        "\"\"\""
      ],
      "metadata": {
        "colab": {
          "base_uri": "https://localhost:8080/",
          "height": 243
        },
        "id": "z8Tpq39z5QSV",
        "outputId": "0ff74035-7585-4d7a-c9e2-e82b9c18a19b"
      },
      "execution_count": 17,
      "outputs": [
        {
          "output_type": "stream",
          "name": "stdout",
          "text": [
            "<class 'float'>\n",
            "<class 'str'>\n",
            "\n",
            "3\n",
            "2.0\n",
            "True\n",
            "\n",
            "<class 'int'>\n",
            "<class 'float'>\n",
            "<class 'bool'>\n",
            "\n"
          ]
        },
        {
          "output_type": "execute_result",
          "data": {
            "text/plain": [
              "\"\\nNOTE: Only complex number can't be converted into int and float type.\\nAnd naming strings can't be converted into int, float & complex.\\nRest all type of conversions are possible.\\n\""
            ],
            "application/vnd.google.colaboratory.intrinsic+json": {
              "type": "string"
            }
          },
          "metadata": {},
          "execution_count": 17
        }
      ]
    },
    {
      "cell_type": "markdown",
      "source": [
        "# **Operators in Python**\n",
        "\n"
      ],
      "metadata": {
        "id": "La7WESyqSwZW"
      }
    },
    {
      "cell_type": "code",
      "execution_count": 18,
      "metadata": {
        "colab": {
          "base_uri": "https://localhost:8080/"
        },
        "id": "fluXQATe3jwF",
        "outputId": "8b7948ee-18af-4d20-b236-ef25d295b990"
      },
      "outputs": [
        {
          "output_type": "stream",
          "name": "stdout",
          "text": [
            "Addition: 2\n",
            "Subtraction: 6\n",
            "Multiplication: 20\n",
            "Division: 5.0\n",
            "Modulus: 1\n",
            "Exponentiation: 36\n",
            "Floor Division: 4\n",
            "\n",
            "Complex Query: 200.5\n"
          ]
        }
      ],
      "source": [
        "# Arithmetic Operators on numbers\n",
        "\n",
        "a = 1+1                 # Adding numbers\n",
        "b = 10-4                # Subtracting numbers\n",
        "c = 4*5                 # Multiplying numbers\n",
        "d = 15/3                # Dividing numbers\n",
        "e = 10%3                # Checking the remainder when 10 is divided by 3 (modulus function)\n",
        "f = 6**2                # Returns the power (6 raised to the power 2) (exponentiation function)\n",
        "g = 21//5               # Floor Division [21/5 = 4.2 = 4 (takes the floor integer always)]\n",
        "\n",
        "print(\"Addition: {}\".format(a))\n",
        "print(\"Subtraction: {}\".format(b))\n",
        "print(\"Multiplication: {}\".format(c))\n",
        "print(\"Division: {}\".format(d))\n",
        "print(\"Modulus: {}\".format(e))\n",
        "print(\"Exponentiation: {}\".format(f))\n",
        "print(\"Floor Division: {}\".format(g))\n",
        "\n",
        "print()                         # blank space\n",
        "\n",
        "x = 10\n",
        "y = 20\n",
        "result = (x*y)+(x/y)            # BODMAS\n",
        "print(\"Complex Query: {}\".format(result))"
      ]
    },
    {
      "cell_type": "code",
      "source": [
        "# Comparison Operators\n",
        "\n",
        "# CASE 1: == Equals to\n",
        "print(\"CASE 1: == Equals to\")\n",
        "a = 10\n",
        "b = 10\n",
        "print(a==b)               # (compares the values of a and b, if equal then return True else gives False)\n",
        "c = 10\n",
        "d = 5\n",
        "print(c==d)\n",
        "\n",
        "print()                   # Blank Space\n",
        "\n",
        "# CASE 2: != Not Equals to\n",
        "print(\"CASE 2: != Not Equals to\")\n",
        "e = 2\n",
        "f = 2\n",
        "print(a!=b)               # (compares the values of e and f, if not equal then return True else gives False)\n",
        "g = 20\n",
        "h = 15\n",
        "print(c!=d)\n",
        "\n",
        "print()            # Blank Space\n",
        "\n",
        "# CASE 3: greater than (>) & less than (<)\n",
        "print(\"CASE 3: > & <\")\n",
        "num1 = 2\n",
        "num2 = 5\n",
        "print(num1 > num2)\n",
        "print(num1 < num2)\n",
        "\n",
        "print()\n",
        "\n",
        "# CASE 4: greater than equal to (>=) & less than equal to (<=)\n",
        "print(\"CASE 4: >= & <=\")\n",
        "num1 = 10\n",
        "num2 = 6\n",
        "print(num1 >= num2)\n",
        "print(num1 <= num2)"
      ],
      "metadata": {
        "colab": {
          "base_uri": "https://localhost:8080/"
        },
        "id": "h09-JegDVlHy",
        "outputId": "a006041a-1ae0-483c-c1b2-7f1848fd9bd5"
      },
      "execution_count": 19,
      "outputs": [
        {
          "output_type": "stream",
          "name": "stdout",
          "text": [
            "CASE 1: == Equals to\n",
            "True\n",
            "False\n",
            "\n",
            "CASE 2: != Not Equals to\n",
            "False\n",
            "True\n",
            "\n",
            "CASE 3: > & <\n",
            "False\n",
            "True\n",
            "\n",
            "CASE 4: >= & <=\n",
            "True\n",
            "False\n"
          ]
        }
      ]
    },
    {
      "cell_type": "code",
      "source": [
        "# Logical Operators\n",
        "\n",
        "# CASE 1: \" AND \"\n",
        "print(\"CASE 1: AND Operator\")\n",
        "A = True\n",
        "B = False\n",
        "C = True\n",
        "D = False\n",
        "print(A and C)      # both true so result = true\n",
        "print(B and D)      # both false so result = false\n",
        "print(A and B)      # one true & one false so result is false\n",
        "print(B and C)      # one false & one true so result is false\n",
        "\n",
        "print()\n",
        "\n",
        "# CASE 2: \" OR \"\n",
        "print(\"CASE 2: OR Operator\")\n",
        "A = True\n",
        "B = False\n",
        "C = True\n",
        "D = False\n",
        "print(A or C)      # both true so result = true\n",
        "print(B or D)      # both false so result = false\n",
        "print(A or B)      # if any one is true then result = true\n",
        "print(B or C)\n",
        "\n",
        "print()\n",
        "\n",
        "# CASE 3: \" NOT \"\n",
        "print(\"CASE 3: NOT Operator\")\n",
        "A = True\n",
        "B = False\n",
        "print(not A)      # not A means opposite of A\n",
        "print(not B)"
      ],
      "metadata": {
        "colab": {
          "base_uri": "https://localhost:8080/"
        },
        "id": "-xb8E2_mkxgC",
        "outputId": "67d086df-5c67-4a20-b0e9-b892570f9417"
      },
      "execution_count": 20,
      "outputs": [
        {
          "output_type": "stream",
          "name": "stdout",
          "text": [
            "CASE 1: AND Operator\n",
            "True\n",
            "False\n",
            "False\n",
            "False\n",
            "\n",
            "CASE 2: OR Operator\n",
            "True\n",
            "False\n",
            "True\n",
            "True\n",
            "\n",
            "CASE 3: NOT Operator\n",
            "False\n",
            "True\n"
          ]
        }
      ]
    },
    {
      "cell_type": "markdown",
      "source": [
        "# **〰〰〰〰〰 Basics of Python - Done ✅ 〰〰〰〰〰**\n",
        "\n"
      ],
      "metadata": {
        "id": "9QQNuMDWlSwm"
      }
    }
  ]
}