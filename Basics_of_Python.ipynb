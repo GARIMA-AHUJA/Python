{
  "nbformat": 4,
  "nbformat_minor": 0,
  "metadata": {
    "colab": {
      "provenance": []
    },
    "kernelspec": {
      "name": "python3",
      "display_name": "Python 3"
    },
    "language_info": {
      "name": "python"
    }
  },
  "cells": [
    {
      "cell_type": "markdown",
      "source": [
        "## **Basic of Python**\n",
        "\n",
        "In this module we will discuss about\n",
        "\n",
        "\n",
        "*   Variables\n",
        "*   DataTypes\n",
        "*   Print Formatting"
      ],
      "metadata": {
        "id": "rtPtYqTU3nXv"
      }
    },
    {
      "cell_type": "markdown",
      "source": [
        "## **Variables in Python**\n",
        "\n",
        "Variables are containers for storing data values.\n",
        "\n",
        "A variable is created the moment you first assign a value to it."
      ],
      "metadata": {
        "id": "FcrdwPXJ9B6O"
      }
    },
    {
      "cell_type": "code",
      "source": [
        "# Creating Variables\n",
        "\n",
        "a = 10\n",
        "name = 'Garima'\n",
        "print(a)\n",
        "print(name)"
      ],
      "metadata": {
        "colab": {
          "base_uri": "https://localhost:8080/"
        },
        "id": "EarUQHeH-XbT",
        "outputId": "ed2bf7b4-4221-4336-e25f-402e7332de4e"
      },
      "execution_count": 1,
      "outputs": [
        {
          "output_type": "stream",
          "name": "stdout",
          "text": [
            "10\n",
            "Garima\n"
          ]
        }
      ]
    },
    {
      "cell_type": "code",
      "source": [
        "# We can't call the variable which is not declared or defined\n",
        "\n",
        "# print(b)\n",
        "\n",
        "# it will return error - NameError: name 'b' is not defined"
      ],
      "metadata": {
        "id": "FAgSaxKL-m2s"
      },
      "execution_count": 2,
      "outputs": []
    },
    {
      "cell_type": "code",
      "source": [
        "# Variables don't have their own particular type\n",
        "# for eg: variable x can be declared as integer first and then again as string\n",
        "\n",
        "x = 5                       # x is of type integer\n",
        "x = 'Garima'                # now x is of type string\n",
        "\n",
        "# now print x, and you will get the latest declartion as the output\n",
        "print(x)"
      ],
      "metadata": {
        "colab": {
          "base_uri": "https://localhost:8080/"
        },
        "id": "ntVxLfwGCaYC",
        "outputId": "0b8771dd-e1d5-4d9a-96c3-eccd1fae3016"
      },
      "execution_count": 3,
      "outputs": [
        {
          "output_type": "stream",
          "name": "stdout",
          "text": [
            "Garima\n"
          ]
        }
      ]
    },
    {
      "cell_type": "code",
      "source": [
        "# If you want to specify the data type of a variable, then do \"Casting\"\n",
        "\n",
        "p = str(5)                  # p will be '5'\n",
        "q = int(5)                  # q will be 5\n",
        "r = float(5)                # r will be 5.0\n",
        "\n",
        "print(p)\n",
        "print(q)\n",
        "print(r)"
      ],
      "metadata": {
        "colab": {
          "base_uri": "https://localhost:8080/"
        },
        "id": "Ogn3Uq53DxQ0",
        "outputId": "a2e38021-437f-4d7a-c346-8a2b11531af5"
      },
      "execution_count": 4,
      "outputs": [
        {
          "output_type": "stream",
          "name": "stdout",
          "text": [
            "5\n",
            "5\n",
            "5.0\n"
          ]
        }
      ]
    },
    {
      "cell_type": "code",
      "source": [
        "# We can check the datatype of a variable with \" type() \" function\n",
        "\n",
        "print(type(r))                     # r = float(5)\n",
        "print(type(x))                     # x = 'Garima'\n",
        "print(type(a))                     # a = 10"
      ],
      "metadata": {
        "colab": {
          "base_uri": "https://localhost:8080/"
        },
        "id": "5l0Lx4sMEmhc",
        "outputId": "988feaff-b9b6-4819-bc13-d9c915b33beb"
      },
      "execution_count": 5,
      "outputs": [
        {
          "output_type": "stream",
          "name": "stdout",
          "text": [
            "<class 'float'>\n",
            "<class 'str'>\n",
            "<class 'int'>\n"
          ]
        }
      ]
    },
    {
      "cell_type": "code",
      "source": [
        "# Variables are case sensitive (i.e. 'g' and 'G' are not same)\n",
        "\n",
        "g = 2\n",
        "G = 'Hello'\n",
        "\n",
        "# g will not overwrite G\n",
        "\n",
        "print(g)\n",
        "print(G)"
      ],
      "metadata": {
        "colab": {
          "base_uri": "https://localhost:8080/"
        },
        "id": "3TkatZOEFYtR",
        "outputId": "3cb72d8f-bbe9-43b3-a62c-22153def1af7"
      },
      "execution_count": 6,
      "outputs": [
        {
          "output_type": "stream",
          "name": "stdout",
          "text": [
            "2\n",
            "Hello\n"
          ]
        }
      ]
    },
    {
      "cell_type": "code",
      "source": [
        "# We can declare multiple variables together\n",
        "\n",
        "name, age, gender = 'Garima', 25, 'Female'\n",
        "\n",
        "print(gender)\n",
        "print(age)"
      ],
      "metadata": {
        "colab": {
          "base_uri": "https://localhost:8080/"
        },
        "id": "e0eY-NPz_VUc",
        "outputId": "c8cad441-f6d0-4690-e7fb-0c4fc2f4e8a3"
      },
      "execution_count": 7,
      "outputs": [
        {
          "output_type": "stream",
          "name": "stdout",
          "text": [
            "Female\n",
            "25\n"
          ]
        }
      ]
    },
    {
      "cell_type": "code",
      "source": [
        "# We can declare same value to multiple variables together\n",
        "\n",
        "u = v = w = 'Garima'\n",
        "\n",
        "print(u)\n",
        "print(v)\n",
        "print(w)"
      ],
      "metadata": {
        "colab": {
          "base_uri": "https://localhost:8080/"
        },
        "id": "2VyGsF-iGMGI",
        "outputId": "3c9d0d56-d069-4b21-d849-8fc22cbcd291"
      },
      "execution_count": 8,
      "outputs": [
        {
          "output_type": "stream",
          "name": "stdout",
          "text": [
            "Garima\n",
            "Garima\n",
            "Garima\n"
          ]
        }
      ]
    },
    {
      "cell_type": "code",
      "source": [
        "# With \" print() \" function we can output multiple variables together\n",
        "\n",
        "# Case 1: simply sepearting the variables with comma [BEST METHOD]\n",
        "x = \"Python\"\n",
        "y = \"is\"\n",
        "z = \"awesome\"\n",
        "print(x, y, z)\n",
        "\n",
        "\n",
        "# Case 2: using + sign to output mutiple variables together\n",
        "x = \"Python \"\n",
        "y = \"is \"\n",
        "z = \"awesome\"\n",
        "print(x + y + z)\n",
        "\n",
        "# remember to add space character after \"python \" and \"is \"\n",
        "# without spaces the output will be \"Pythonisawesome\" in case of (+) sign\n",
        "# in case of commas (,) there is no problem of spaces\n",
        "\n",
        "\n",
        "# Case 3: for numbers (+) sign works as a operator\n",
        "x = 5\n",
        "y = 10\n",
        "print(x + y)\n",
        "\n",
        "\n",
        "# NOTE: (+) sign does not combine variables with different datatypes, whereas there is no problem like this with (,) comma case\n",
        "x = 5\n",
        "y = \"John\"\n",
        "print(x, y)              # CORRECT [BEST METHOD]\n",
        "\n",
        "# x = 5\n",
        "# y = \"John\"\n",
        "# print(x + y)  -  Gives ERROR"
      ],
      "metadata": {
        "colab": {
          "base_uri": "https://localhost:8080/"
        },
        "id": "NC7cMRGDG0c2",
        "outputId": "89d511d2-5d51-477d-cea2-64d12f7c6f7e"
      },
      "execution_count": 9,
      "outputs": [
        {
          "output_type": "stream",
          "name": "stdout",
          "text": [
            "Python is awesome\n",
            "Python is awesome\n",
            "15\n",
            "5 John\n"
          ]
        }
      ]
    },
    {
      "cell_type": "markdown",
      "source": [
        "## **Python Data Types**\n",
        "\n",
        "We have various datatypes in python. Some of the major ones are:\n",
        "integer, float, complex, string, boolean, list, tuple, range, dictionary"
      ],
      "metadata": {
        "id": "jNEzvJ6D4Hk0"
      }
    },
    {
      "cell_type": "code",
      "source": [
        "# Setting the DataTypes\n",
        "\n",
        "a = 'Hello Garima'                                          # string (str)\n",
        "b = 15                                                      # integer (int)\n",
        "c = 20.5                                                    # float\n",
        "d = 6+2j                                                    # complex\n",
        "e = [\"Apple\", \"Orange\", \"Cherry\"]                           # list\n",
        "f = (\"Apple\", \"Orange\", \"Cherry\")                           # tuple\n",
        "g = range(5)                                                # range\n",
        "h = {\"name\": \"Garima\", \"Age\": 25}                           # dict\n",
        "i = {\"Apple\", \"Orange\", \"Cherry\"}                           # set\n",
        "j = True                                                    # bool"
      ],
      "metadata": {
        "id": "bDnXcOip3ZFz"
      },
      "execution_count": 10,
      "outputs": []
    },
    {
      "cell_type": "code",
      "source": [
        "# check the data type of any variable - type() function\n",
        "\n",
        "print(type(f))\n",
        "print(type(i))\n",
        "print(type(d))\n",
        "print(type(h))\n",
        "\n",
        "# Note: everything in python is a object and objects have class that's why it is written as <class 'tuple'>"
      ],
      "metadata": {
        "colab": {
          "base_uri": "https://localhost:8080/"
        },
        "id": "vYbNanPv5QlR",
        "outputId": "6588b7ef-8705-4260-dc4a-08765f75e9c7"
      },
      "execution_count": 11,
      "outputs": [
        {
          "output_type": "stream",
          "name": "stdout",
          "text": [
            "<class 'tuple'>\n",
            "<class 'set'>\n",
            "<class 'complex'>\n",
            "<class 'dict'>\n"
          ]
        }
      ]
    },
    {
      "cell_type": "code",
      "source": [
        "# Complex DataType\n",
        "x = 3+5j                           # defined complex number\n",
        "print(type(x))                     # checking datatype\n",
        "print(x.real)                      # returning the \"real\" part of the complex number\n",
        "print(x.imag)                      # returning the \"imaginary\" part of the complex number\n",
        "\n",
        "y = 7.8+3.2j                       # another example\n",
        "print(type(y))\n",
        "print(y.real)\n",
        "print(y.imag)\n",
        "\n",
        "\n",
        "# Creating complex number by using function\n",
        "# generating complex number by defining both real & imag part in function\n",
        "n = complex(4,2)      # here 4 is the real part & 2 is the imaginary part\n",
        "print(n)\n",
        "\n",
        "\n",
        "# generating complex number by defining only one part (i.e. real)\n",
        "m = complex(9)\n",
        "print(m)\n",
        "# this complex number will have 9 as the real part & imaginary part is not defined so it will take it as 0"
      ],
      "metadata": {
        "colab": {
          "base_uri": "https://localhost:8080/"
        },
        "id": "nBAUi07dBm0F",
        "outputId": "4cf99484-1191-41e3-d552-0aed5da1deac"
      },
      "execution_count": 12,
      "outputs": [
        {
          "output_type": "stream",
          "name": "stdout",
          "text": [
            "<class 'complex'>\n",
            "3.0\n",
            "5.0\n",
            "<class 'complex'>\n",
            "7.8\n",
            "3.2\n",
            "(4+2j)\n",
            "(9+0j)\n"
          ]
        }
      ]
    },
    {
      "cell_type": "code",
      "source": [
        "# DataType Conversion\n",
        "\n",
        "x = 2\n",
        "y = 3.8\n",
        "z = 6+4j\n",
        "print(type(y))                 # currently the type is float\n",
        "\n",
        "\n",
        "# let's change float type to int\n",
        "a = int(y)\n",
        "b = float(x)\n",
        "\n",
        "print(a)\n",
        "print(b)\n",
        "\n",
        "print(type(a))\n",
        "print(type(b))"
      ],
      "metadata": {
        "colab": {
          "base_uri": "https://localhost:8080/"
        },
        "id": "z8Tpq39z5QSV",
        "outputId": "21863a3b-9588-4021-c91c-74e8f26212af"
      },
      "execution_count": 13,
      "outputs": [
        {
          "output_type": "stream",
          "name": "stdout",
          "text": [
            "<class 'float'>\n",
            "3\n",
            "2.0\n",
            "<class 'int'>\n",
            "<class 'float'>\n"
          ]
        }
      ]
    },
    {
      "cell_type": "code",
      "execution_count": 14,
      "metadata": {
        "colab": {
          "base_uri": "https://localhost:8080/"
        },
        "id": "fluXQATe3jwF",
        "outputId": "eef65dae-847d-4a5f-b41e-dcb8bfd30488"
      },
      "outputs": [
        {
          "output_type": "stream",
          "name": "stdout",
          "text": [
            "2\n",
            "6\n",
            "20\n",
            "5.0\n",
            "1\n",
            "36\n"
          ]
        }
      ],
      "source": [
        "# Operators on numbers\n",
        "\n",
        "a = 1+1                 # Adding numbers\n",
        "b = 10-4                # Subtracting numbers\n",
        "c = 4*5                 # Multiplying numbers\n",
        "d = 15/3                # Dividing numbers\n",
        "e = 10%3                # Checking the remainder when 10 is divided by 3\n",
        "f = 6**2                # Returns the power (6 raised to the power 2)\n",
        "\n",
        "print(a)\n",
        "print(b)\n",
        "print(c)\n",
        "print(d)\n",
        "print(e)\n",
        "print(f)"
      ]
    }
  ]
}