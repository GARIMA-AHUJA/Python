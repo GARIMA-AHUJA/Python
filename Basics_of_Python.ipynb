{
  "nbformat": 4,
  "nbformat_minor": 0,
  "metadata": {
    "colab": {
      "provenance": [],
      "authorship_tag": "ABX9TyNBBUCQnwAEtue+DkL7HtBb",
      "include_colab_link": true
    },
    "kernelspec": {
      "name": "python3",
      "display_name": "Python 3"
    },
    "language_info": {
      "name": "python"
    }
  },
  "cells": [
    {
      "cell_type": "markdown",
      "metadata": {
        "id": "view-in-github",
        "colab_type": "text"
      },
      "source": [
        "<a href=\"https://colab.research.google.com/github/GARIMA-AHUJA/Python/blob/main/Basics_of_Python.ipynb\" target=\"_parent\"><img src=\"https://colab.research.google.com/assets/colab-badge.svg\" alt=\"Open In Colab\"/></a>"
      ]
    },
    {
      "cell_type": "markdown",
      "source": [
        "## **Basic of Python**\n",
        "\n",
        "In this module we will discuss about\n",
        "\n",
        "\n",
        "*   Variables\n",
        "*   DataTypes\n",
        "*   Print Formatting"
      ],
      "metadata": {
        "id": "rtPtYqTU3nXv"
      }
    },
    {
      "cell_type": "markdown",
      "source": [
        "## **Variables in Python**\n",
        "\n",
        "Variables are containers for storing data values.\n",
        "\n",
        "A variable is created the moment you first assign a value to it."
      ],
      "metadata": {
        "id": "FcrdwPXJ9B6O"
      }
    },
    {
      "cell_type": "code",
      "source": [
        "# Creating Variables\n",
        "\n",
        "a = 10\n",
        "name = 'Garima'\n",
        "print(a)\n",
        "print(name)"
      ],
      "metadata": {
        "colab": {
          "base_uri": "https://localhost:8080/"
        },
        "id": "EarUQHeH-XbT",
        "outputId": "b6f7a7b3-184f-43ce-8ff0-8fd59b10b72d"
      },
      "execution_count": 30,
      "outputs": [
        {
          "output_type": "stream",
          "name": "stdout",
          "text": [
            "10\n",
            "Garima\n"
          ]
        }
      ]
    },
    {
      "cell_type": "code",
      "source": [
        "# We can't call the variable which is not declared or defined\n",
        "\n",
        "print(b)\n",
        "\n",
        "# it will return error - NameError: name 'b' is not defined"
      ],
      "metadata": {
        "id": "FAgSaxKL-m2s"
      },
      "execution_count": null,
      "outputs": []
    },
    {
      "cell_type": "code",
      "source": [
        "# Variables don't have their own particular type\n",
        "# for eg: variable x can be declared as integer first and then again as string\n",
        "\n",
        "x = 5                       # x is of type integer\n",
        "x = 'Garima'                # now x is of type string\n",
        "\n",
        "# now print x, and you will get the latest declartion as the output\n",
        "print(x)"
      ],
      "metadata": {
        "colab": {
          "base_uri": "https://localhost:8080/"
        },
        "id": "ntVxLfwGCaYC",
        "outputId": "60f1e100-bef4-445c-9edb-875e3c09ba6d"
      },
      "execution_count": 31,
      "outputs": [
        {
          "output_type": "stream",
          "name": "stdout",
          "text": [
            "Garima\n"
          ]
        }
      ]
    },
    {
      "cell_type": "code",
      "source": [
        "# If you want to specify the data type of a variable, then do \"Casting\"\n",
        "\n",
        "p = str(5)                  # p will be '5'\n",
        "q = int(5)                  # q will be 5\n",
        "r = float(5)                # r will be 5.0\n",
        "\n",
        "print(p)\n",
        "print(q)\n",
        "print(r)"
      ],
      "metadata": {
        "colab": {
          "base_uri": "https://localhost:8080/"
        },
        "id": "Ogn3Uq53DxQ0",
        "outputId": "5cec37f0-a4fe-4096-b336-e375540db697"
      },
      "execution_count": 34,
      "outputs": [
        {
          "output_type": "stream",
          "name": "stdout",
          "text": [
            "5\n",
            "5\n",
            "5.0\n"
          ]
        }
      ]
    },
    {
      "cell_type": "code",
      "source": [
        "# We can check the datatype of a variable with \" type() \" function\n",
        "\n",
        "print(type(r))                     # r = float(5)\n",
        "print(type(x))                     # x = 'Garima'\n",
        "print(type(a))                     # a = 10"
      ],
      "metadata": {
        "colab": {
          "base_uri": "https://localhost:8080/"
        },
        "id": "5l0Lx4sMEmhc",
        "outputId": "dacbe627-cb8c-4728-9e34-263427a37997"
      },
      "execution_count": 36,
      "outputs": [
        {
          "output_type": "stream",
          "name": "stdout",
          "text": [
            "<class 'float'>\n",
            "<class 'str'>\n",
            "<class 'int'>\n"
          ]
        }
      ]
    },
    {
      "cell_type": "code",
      "source": [
        "# Variables are case sensitive (i.e. 'g' and 'G' are not same)\n",
        "\n",
        "g = 2\n",
        "G = 'Hello'\n",
        "\n",
        "# g will not overwrite G\n",
        "\n",
        "print(g)\n",
        "print(G)"
      ],
      "metadata": {
        "colab": {
          "base_uri": "https://localhost:8080/"
        },
        "id": "3TkatZOEFYtR",
        "outputId": "e2d126f9-44c7-4f20-9ffb-ca6ca8e2db44"
      },
      "execution_count": 38,
      "outputs": [
        {
          "output_type": "stream",
          "name": "stdout",
          "text": [
            "2\n",
            "Hello\n"
          ]
        }
      ]
    },
    {
      "cell_type": "code",
      "source": [
        "# We can declare multiple variables together\n",
        "\n",
        "name, age, gender = 'Garima', 25, 'Female'\n",
        "\n",
        "print(gender)\n",
        "print(age)"
      ],
      "metadata": {
        "colab": {
          "base_uri": "https://localhost:8080/"
        },
        "id": "e0eY-NPz_VUc",
        "outputId": "97af1d3e-4c81-4c50-f59b-f818da09815a"
      },
      "execution_count": 39,
      "outputs": [
        {
          "output_type": "stream",
          "name": "stdout",
          "text": [
            "Female\n",
            "25\n"
          ]
        }
      ]
    },
    {
      "cell_type": "code",
      "source": [
        "# We can declare same value to multiple variables together\n",
        "\n",
        "u = v = w = 'Garima'\n",
        "\n",
        "print(u)\n",
        "print(v)\n",
        "print(w)"
      ],
      "metadata": {
        "colab": {
          "base_uri": "https://localhost:8080/"
        },
        "id": "2VyGsF-iGMGI",
        "outputId": "2613bbe4-ab1a-4efd-d6c7-5f4644f5bf94"
      },
      "execution_count": 41,
      "outputs": [
        {
          "output_type": "stream",
          "name": "stdout",
          "text": [
            "Garima\n",
            "Garima\n",
            "Garima\n"
          ]
        }
      ]
    },
    {
      "cell_type": "code",
      "source": [
        "# With \" print() \" function we can output multiple variables together\n",
        "\n",
        "# Case 1: simply sepearting the variables with comma [BEST METHOD]\n",
        "x = \"Python\"\n",
        "y = \"is\"\n",
        "z = \"awesome\"\n",
        "print(x, y, z)\n",
        "\n",
        "\n",
        "# Case 2: using + sign to output mutiple variables together\n",
        "x = \"Python \"\n",
        "y = \"is \"\n",
        "z = \"awesome\"\n",
        "print(x + y + z)\n",
        "\n",
        "# remember to add space character after \"python \" and \"is \"\n",
        "# without spaces the output will be \"Pythonisawesome\" in case of (+) sign\n",
        "# in case of commas (,) there is no problem of spaces\n",
        "\n",
        "\n",
        "# Case 3: for numbers (+) sign works as a operator\n",
        "x = 5\n",
        "y = 10\n",
        "print(x + y)\n",
        "\n",
        "\n",
        "# NOTE: (+) sign does not combine variables with different datatypes, whereas there is no problem like this with (,) comma case\n",
        "x = 5\n",
        "y = \"John\"\n",
        "print(x, y)              # CORRECT [BEST METHOD]\n",
        "\n",
        "# x = 5\n",
        "# y = \"John\"\n",
        "# print(x + y)  -  Gives ERROR"
      ],
      "metadata": {
        "colab": {
          "base_uri": "https://localhost:8080/"
        },
        "id": "NC7cMRGDG0c2",
        "outputId": "860b9886-20d1-4c7b-843b-5a6a9a1cb673"
      },
      "execution_count": 54,
      "outputs": [
        {
          "output_type": "stream",
          "name": "stdout",
          "text": [
            "Python is awesome\n",
            "Python is awesome\n",
            "15\n",
            "5 John\n"
          ]
        }
      ]
    },
    {
      "cell_type": "markdown",
      "source": [
        "## **Python Data Types**\n",
        "\n",
        "We have various datatypes in python such as integer, float, bool"
      ],
      "metadata": {
        "id": "jNEzvJ6D4Hk0"
      }
    },
    {
      "cell_type": "markdown",
      "source": [
        "1. Numbers"
      ],
      "metadata": {
        "id": "tVGJjx9d4ze2"
      }
    },
    {
      "cell_type": "code",
      "execution_count": 1,
      "metadata": {
        "colab": {
          "base_uri": "https://localhost:8080/"
        },
        "id": "fluXQATe3jwF",
        "outputId": "c94db77f-6562-4531-dee6-d13a5a1747ad"
      },
      "outputs": [
        {
          "output_type": "execute_result",
          "data": {
            "text/plain": [
              "2"
            ]
          },
          "metadata": {},
          "execution_count": 1
        }
      ],
      "source": [
        "1+1           # Adding numbers"
      ]
    },
    {
      "cell_type": "code",
      "source": [
        "10-4          # Subtracting numbers"
      ],
      "metadata": {
        "colab": {
          "base_uri": "https://localhost:8080/"
        },
        "id": "Y2XwEkAS42Vj",
        "outputId": "f1f39950-f192-448a-dcda-d4f716d547d3"
      },
      "execution_count": 2,
      "outputs": [
        {
          "output_type": "execute_result",
          "data": {
            "text/plain": [
              "6"
            ]
          },
          "metadata": {},
          "execution_count": 2
        }
      ]
    },
    {
      "cell_type": "code",
      "source": [
        "4*5           # Multiplying numbers"
      ],
      "metadata": {
        "colab": {
          "base_uri": "https://localhost:8080/"
        },
        "id": "BOPGEojo5TLz",
        "outputId": "593d215b-007b-4b43-ce3f-49d989fbfdc4"
      },
      "execution_count": 3,
      "outputs": [
        {
          "output_type": "execute_result",
          "data": {
            "text/plain": [
              "20"
            ]
          },
          "metadata": {},
          "execution_count": 3
        }
      ]
    },
    {
      "cell_type": "code",
      "source": [
        "15/3          # Dividing numbers"
      ],
      "metadata": {
        "colab": {
          "base_uri": "https://localhost:8080/"
        },
        "id": "O37RSUBv5UgF",
        "outputId": "65033a4b-6360-456d-d336-438dacc74680"
      },
      "execution_count": 4,
      "outputs": [
        {
          "output_type": "execute_result",
          "data": {
            "text/plain": [
              "5.0"
            ]
          },
          "metadata": {},
          "execution_count": 4
        }
      ]
    },
    {
      "cell_type": "code",
      "source": [
        "10%3          # Checking the remainder when 10 is divided by 3"
      ],
      "metadata": {
        "colab": {
          "base_uri": "https://localhost:8080/"
        },
        "id": "28bQDkBV5Wzl",
        "outputId": "9fffc1b2-8d42-4665-dae0-c4d342db7008"
      },
      "execution_count": 9,
      "outputs": [
        {
          "output_type": "execute_result",
          "data": {
            "text/plain": [
              "1"
            ]
          },
          "metadata": {},
          "execution_count": 9
        }
      ]
    },
    {
      "cell_type": "code",
      "source": [
        "6**2          # Returns the power (6 raised to the power 2)"
      ],
      "metadata": {
        "colab": {
          "base_uri": "https://localhost:8080/"
        },
        "id": "LVNhILsZ6COO",
        "outputId": "253dbadb-83e3-45ea-f3a4-6a62d2ddac96"
      },
      "execution_count": 10,
      "outputs": [
        {
          "output_type": "execute_result",
          "data": {
            "text/plain": [
              "36"
            ]
          },
          "metadata": {},
          "execution_count": 10
        }
      ]
    },
    {
      "cell_type": "code",
      "source": [],
      "metadata": {
        "id": "P3cYQbg37F7L"
      },
      "execution_count": null,
      "outputs": []
    }
  ]
}